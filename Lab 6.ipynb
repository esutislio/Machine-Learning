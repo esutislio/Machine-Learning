{
 "cells": [
  {
   "cell_type": "code",
   "execution_count": 1,
   "id": "d05161f2-d8ef-481a-94cc-fe828af78adf",
   "metadata": {},
   "outputs": [],
   "source": [
    "import pandas as pd \n",
    "import numpy as np\n",
    "import matplotlib.pyplot as plt\n",
    "import seaborn as sns\n",
    "from scipy.stats import norm, kurtosis # to install scipy, search 'scipy anaconda'\n",
    "from sklearn.decomposition import FastICA\n",
    "from sklearn.linear_model import LogisticRegression\n",
    "from sklearn.model_selection import train_test_split\n",
    "from sklearn.metrics import *\n",
    "%matplotlib inline\n",
    "\n"
   ]
  },
  {
   "cell_type": "code",
   "execution_count": 149,
   "id": "905969ad-cfda-4620-950a-327716ecc873",
   "metadata": {
    "tags": []
   },
   "outputs": [
    {
     "data": {
      "text/html": [
       "<div>\n",
       "<style scoped>\n",
       "    .dataframe tbody tr th:only-of-type {\n",
       "        vertical-align: middle;\n",
       "    }\n",
       "\n",
       "    .dataframe tbody tr th {\n",
       "        vertical-align: top;\n",
       "    }\n",
       "\n",
       "    .dataframe thead th {\n",
       "        text-align: right;\n",
       "    }\n",
       "</style>\n",
       "<table border=\"1\" class=\"dataframe\">\n",
       "  <thead>\n",
       "    <tr style=\"text-align: right;\">\n",
       "      <th></th>\n",
       "      <th>diagnosis</th>\n",
       "      <th>mean radius</th>\n",
       "      <th>mean texture</th>\n",
       "      <th>mean perimeter</th>\n",
       "      <th>mean area</th>\n",
       "      <th>mean smoothness</th>\n",
       "      <th>mean compactness</th>\n",
       "      <th>mean concavity</th>\n",
       "      <th>mean concave points</th>\n",
       "      <th>mean symmetry</th>\n",
       "      <th>...</th>\n",
       "      <th>worst radius</th>\n",
       "      <th>worst texture</th>\n",
       "      <th>worst perimeter</th>\n",
       "      <th>worst area</th>\n",
       "      <th>worst smoothness</th>\n",
       "      <th>worst compactness</th>\n",
       "      <th>worst concavity</th>\n",
       "      <th>worst concave points</th>\n",
       "      <th>worst symmetry</th>\n",
       "      <th>worst fractal dimension</th>\n",
       "    </tr>\n",
       "  </thead>\n",
       "  <tbody>\n",
       "    <tr>\n",
       "      <th>0</th>\n",
       "      <td>0</td>\n",
       "      <td>17.99</td>\n",
       "      <td>10.38</td>\n",
       "      <td>122.80</td>\n",
       "      <td>1001.0</td>\n",
       "      <td>0.11840</td>\n",
       "      <td>0.27760</td>\n",
       "      <td>0.3001</td>\n",
       "      <td>0.14710</td>\n",
       "      <td>0.2419</td>\n",
       "      <td>...</td>\n",
       "      <td>25.38</td>\n",
       "      <td>17.33</td>\n",
       "      <td>184.60</td>\n",
       "      <td>2019.0</td>\n",
       "      <td>0.1622</td>\n",
       "      <td>0.6656</td>\n",
       "      <td>0.7119</td>\n",
       "      <td>0.2654</td>\n",
       "      <td>0.4601</td>\n",
       "      <td>0.11890</td>\n",
       "    </tr>\n",
       "    <tr>\n",
       "      <th>1</th>\n",
       "      <td>0</td>\n",
       "      <td>20.57</td>\n",
       "      <td>17.77</td>\n",
       "      <td>132.90</td>\n",
       "      <td>1326.0</td>\n",
       "      <td>0.08474</td>\n",
       "      <td>0.07864</td>\n",
       "      <td>0.0869</td>\n",
       "      <td>0.07017</td>\n",
       "      <td>0.1812</td>\n",
       "      <td>...</td>\n",
       "      <td>24.99</td>\n",
       "      <td>23.41</td>\n",
       "      <td>158.80</td>\n",
       "      <td>1956.0</td>\n",
       "      <td>0.1238</td>\n",
       "      <td>0.1866</td>\n",
       "      <td>0.2416</td>\n",
       "      <td>0.1860</td>\n",
       "      <td>0.2750</td>\n",
       "      <td>0.08902</td>\n",
       "    </tr>\n",
       "    <tr>\n",
       "      <th>2</th>\n",
       "      <td>0</td>\n",
       "      <td>19.69</td>\n",
       "      <td>21.25</td>\n",
       "      <td>130.00</td>\n",
       "      <td>1203.0</td>\n",
       "      <td>0.10960</td>\n",
       "      <td>0.15990</td>\n",
       "      <td>0.1974</td>\n",
       "      <td>0.12790</td>\n",
       "      <td>0.2069</td>\n",
       "      <td>...</td>\n",
       "      <td>23.57</td>\n",
       "      <td>25.53</td>\n",
       "      <td>152.50</td>\n",
       "      <td>1709.0</td>\n",
       "      <td>0.1444</td>\n",
       "      <td>0.4245</td>\n",
       "      <td>0.4504</td>\n",
       "      <td>0.2430</td>\n",
       "      <td>0.3613</td>\n",
       "      <td>0.08758</td>\n",
       "    </tr>\n",
       "    <tr>\n",
       "      <th>3</th>\n",
       "      <td>0</td>\n",
       "      <td>11.42</td>\n",
       "      <td>20.38</td>\n",
       "      <td>77.58</td>\n",
       "      <td>386.1</td>\n",
       "      <td>0.14250</td>\n",
       "      <td>0.28390</td>\n",
       "      <td>0.2414</td>\n",
       "      <td>0.10520</td>\n",
       "      <td>0.2597</td>\n",
       "      <td>...</td>\n",
       "      <td>14.91</td>\n",
       "      <td>26.50</td>\n",
       "      <td>98.87</td>\n",
       "      <td>567.7</td>\n",
       "      <td>0.2098</td>\n",
       "      <td>0.8663</td>\n",
       "      <td>0.6869</td>\n",
       "      <td>0.2575</td>\n",
       "      <td>0.6638</td>\n",
       "      <td>0.17300</td>\n",
       "    </tr>\n",
       "    <tr>\n",
       "      <th>4</th>\n",
       "      <td>0</td>\n",
       "      <td>20.29</td>\n",
       "      <td>14.34</td>\n",
       "      <td>135.10</td>\n",
       "      <td>1297.0</td>\n",
       "      <td>0.10030</td>\n",
       "      <td>0.13280</td>\n",
       "      <td>0.1980</td>\n",
       "      <td>0.10430</td>\n",
       "      <td>0.1809</td>\n",
       "      <td>...</td>\n",
       "      <td>22.54</td>\n",
       "      <td>16.67</td>\n",
       "      <td>152.20</td>\n",
       "      <td>1575.0</td>\n",
       "      <td>0.1374</td>\n",
       "      <td>0.2050</td>\n",
       "      <td>0.4000</td>\n",
       "      <td>0.1625</td>\n",
       "      <td>0.2364</td>\n",
       "      <td>0.07678</td>\n",
       "    </tr>\n",
       "  </tbody>\n",
       "</table>\n",
       "<p>5 rows × 31 columns</p>\n",
       "</div>"
      ],
      "text/plain": [
       "   diagnosis  mean radius  mean texture  mean perimeter  mean area  \\\n",
       "0          0        17.99         10.38          122.80     1001.0   \n",
       "1          0        20.57         17.77          132.90     1326.0   \n",
       "2          0        19.69         21.25          130.00     1203.0   \n",
       "3          0        11.42         20.38           77.58      386.1   \n",
       "4          0        20.29         14.34          135.10     1297.0   \n",
       "\n",
       "   mean smoothness  mean compactness  mean concavity  mean concave points  \\\n",
       "0          0.11840           0.27760          0.3001              0.14710   \n",
       "1          0.08474           0.07864          0.0869              0.07017   \n",
       "2          0.10960           0.15990          0.1974              0.12790   \n",
       "3          0.14250           0.28390          0.2414              0.10520   \n",
       "4          0.10030           0.13280          0.1980              0.10430   \n",
       "\n",
       "   mean symmetry  ...  worst radius  worst texture  worst perimeter  \\\n",
       "0         0.2419  ...         25.38          17.33           184.60   \n",
       "1         0.1812  ...         24.99          23.41           158.80   \n",
       "2         0.2069  ...         23.57          25.53           152.50   \n",
       "3         0.2597  ...         14.91          26.50            98.87   \n",
       "4         0.1809  ...         22.54          16.67           152.20   \n",
       "\n",
       "   worst area  worst smoothness  worst compactness  worst concavity  \\\n",
       "0      2019.0            0.1622             0.6656           0.7119   \n",
       "1      1956.0            0.1238             0.1866           0.2416   \n",
       "2      1709.0            0.1444             0.4245           0.4504   \n",
       "3       567.7            0.2098             0.8663           0.6869   \n",
       "4      1575.0            0.1374             0.2050           0.4000   \n",
       "\n",
       "   worst concave points  worst symmetry  worst fractal dimension  \n",
       "0                0.2654          0.4601                  0.11890  \n",
       "1                0.1860          0.2750                  0.08902  \n",
       "2                0.2430          0.3613                  0.08758  \n",
       "3                0.2575          0.6638                  0.17300  \n",
       "4                0.1625          0.2364                  0.07678  \n",
       "\n",
       "[5 rows x 31 columns]"
      ]
     },
     "execution_count": 149,
     "metadata": {},
     "output_type": "execute_result"
    }
   ],
   "source": [
    "from sklearn.datasets import load_breast_cancer\n",
    "\n",
    "cancer = load_breast_cancer()\n",
    "features = pd.DataFrame(cancer['data'], columns=cancer['feature_names'])\n",
    "labels = pd.DataFrame(cancer['target'], columns=['diagnosis'])\n",
    "\n",
    "data = pd.concat([labels, features], axis=1)\n",
    "data.head()"
   ]
  },
  {
   "cell_type": "code",
   "execution_count": 6,
   "id": "a5842ac4-0618-4022-b91a-49610137bbed",
   "metadata": {
    "tags": []
   },
   "outputs": [],
   "source": [
    "# 2. Use the Superstore data. Create a dataframe with columns State, Sales, Profit, and Discount for California. \n",
    "# Create a second dataframe with the same columns for Michigan. \n",
    "# Sort both dataframes by sales in descending order. Concatenate the 2 dataframes vertically (California above Michigan).\n",
    "# Reset the index afterwards (using reset_index(drop = True) function). \n",
    "# What's the value at index [1000, 2]?"
   ]
  },
  {
   "cell_type": "code",
   "execution_count": 10,
   "id": "255306a9-dd27-41ac-a866-15d74f9070be",
   "metadata": {
    "tags": []
   },
   "outputs": [
    {
     "data": {
      "text/plain": [
       "Index(['Category', 'City', 'Container', 'Customer ID', 'Customer Name',\n",
       "       'Customer Segment', 'Department', 'Discount', 'Item ID', 'Item',\n",
       "       'Number of Records', 'Order Date', 'Order ID', 'Order Priority',\n",
       "       'Order Quantity', 'Postal Code', 'Product Base Margin', 'Profit',\n",
       "       'Region', 'Row ID', 'Sales', 'Ship Date', 'Ship Mode', 'Shipping Cost',\n",
       "       'State', 'Unit Price'],\n",
       "      dtype='object')"
      ]
     },
     "execution_count": 10,
     "metadata": {},
     "output_type": "execute_result"
    }
   ],
   "source": [
    "store = pd.read_csv('Superstore.csv')\n",
    "store.columns"
   ]
  },
  {
   "cell_type": "code",
   "execution_count": 29,
   "id": "be8447f6-0f3d-46c3-ac46-719d4fe23bc5",
   "metadata": {
    "tags": []
   },
   "outputs": [
    {
     "data": {
      "text/html": [
       "<div>\n",
       "<style scoped>\n",
       "    .dataframe tbody tr th:only-of-type {\n",
       "        vertical-align: middle;\n",
       "    }\n",
       "\n",
       "    .dataframe tbody tr th {\n",
       "        vertical-align: top;\n",
       "    }\n",
       "\n",
       "    .dataframe thead th {\n",
       "        text-align: right;\n",
       "    }\n",
       "</style>\n",
       "<table border=\"1\" class=\"dataframe\">\n",
       "  <thead>\n",
       "    <tr style=\"text-align: right;\">\n",
       "      <th></th>\n",
       "      <th>State</th>\n",
       "      <th>Sales</th>\n",
       "      <th>Profit</th>\n",
       "      <th>Discount</th>\n",
       "    </tr>\n",
       "  </thead>\n",
       "  <tbody>\n",
       "    <tr>\n",
       "      <th>7455</th>\n",
       "      <td>California</td>\n",
       "      <td>100119</td>\n",
       "      <td>7498</td>\n",
       "      <td>0.03</td>\n",
       "    </tr>\n",
       "    <tr>\n",
       "      <th>1772</th>\n",
       "      <td>California</td>\n",
       "      <td>43046</td>\n",
       "      <td>4073</td>\n",
       "      <td>0.07</td>\n",
       "    </tr>\n",
       "    <tr>\n",
       "      <th>244</th>\n",
       "      <td>California</td>\n",
       "      <td>27588</td>\n",
       "      <td>2009</td>\n",
       "      <td>0.05</td>\n",
       "    </tr>\n",
       "    <tr>\n",
       "      <th>751</th>\n",
       "      <td>California</td>\n",
       "      <td>25712</td>\n",
       "      <td>2755</td>\n",
       "      <td>0.06</td>\n",
       "    </tr>\n",
       "    <tr>\n",
       "      <th>7616</th>\n",
       "      <td>California</td>\n",
       "      <td>18125</td>\n",
       "      <td>3858</td>\n",
       "      <td>0.05</td>\n",
       "    </tr>\n",
       "    <tr>\n",
       "      <th>...</th>\n",
       "      <td>...</td>\n",
       "      <td>...</td>\n",
       "      <td>...</td>\n",
       "      <td>...</td>\n",
       "    </tr>\n",
       "    <tr>\n",
       "      <th>1992</th>\n",
       "      <td>California</td>\n",
       "      <td>4</td>\n",
       "      <td>-4</td>\n",
       "      <td>0.03</td>\n",
       "    </tr>\n",
       "    <tr>\n",
       "      <th>5975</th>\n",
       "      <td>California</td>\n",
       "      <td>4</td>\n",
       "      <td>2</td>\n",
       "      <td>0.00</td>\n",
       "    </tr>\n",
       "    <tr>\n",
       "      <th>8676</th>\n",
       "      <td>California</td>\n",
       "      <td>3</td>\n",
       "      <td>-8</td>\n",
       "      <td>0.04</td>\n",
       "    </tr>\n",
       "    <tr>\n",
       "      <th>8475</th>\n",
       "      <td>California</td>\n",
       "      <td>2</td>\n",
       "      <td>-5</td>\n",
       "      <td>0.02</td>\n",
       "    </tr>\n",
       "    <tr>\n",
       "      <th>807</th>\n",
       "      <td>California</td>\n",
       "      <td>2</td>\n",
       "      <td>-6</td>\n",
       "      <td>0.08</td>\n",
       "    </tr>\n",
       "  </tbody>\n",
       "</table>\n",
       "<p>798 rows × 4 columns</p>\n",
       "</div>"
      ],
      "text/plain": [
       "           State   Sales  Profit  Discount\n",
       "7455  California  100119    7498      0.03\n",
       "1772  California   43046    4073      0.07\n",
       "244   California   27588    2009      0.05\n",
       "751   California   25712    2755      0.06\n",
       "7616  California   18125    3858      0.05\n",
       "...          ...     ...     ...       ...\n",
       "1992  California       4      -4      0.03\n",
       "5975  California       4       2      0.00\n",
       "8676  California       3      -8      0.04\n",
       "8475  California       2      -5      0.02\n",
       "807   California       2      -6      0.08\n",
       "\n",
       "[798 rows x 4 columns]"
      ]
     },
     "execution_count": 29,
     "metadata": {},
     "output_type": "execute_result"
    }
   ],
   "source": [
    "df1 = store[['State', 'Sales', 'Profit', 'Discount']]\n",
    "df1_cali = df1[df1['State'] == 'California']\n",
    "df1_cali = df1_cali.sort_values(by = 'Sales', ascending = False)\n",
    "df1_cali"
   ]
  },
  {
   "cell_type": "code",
   "execution_count": 30,
   "id": "1e052ccd-7e1d-4090-b727-cb2d1bb80dd0",
   "metadata": {
    "tags": []
   },
   "outputs": [
    {
     "data": {
      "text/html": [
       "<div>\n",
       "<style scoped>\n",
       "    .dataframe tbody tr th:only-of-type {\n",
       "        vertical-align: middle;\n",
       "    }\n",
       "\n",
       "    .dataframe tbody tr th {\n",
       "        vertical-align: top;\n",
       "    }\n",
       "\n",
       "    .dataframe thead th {\n",
       "        text-align: right;\n",
       "    }\n",
       "</style>\n",
       "<table border=\"1\" class=\"dataframe\">\n",
       "  <thead>\n",
       "    <tr style=\"text-align: right;\">\n",
       "      <th></th>\n",
       "      <th>State</th>\n",
       "      <th>Sales</th>\n",
       "      <th>Profit</th>\n",
       "      <th>Discount</th>\n",
       "    </tr>\n",
       "  </thead>\n",
       "  <tbody>\n",
       "    <tr>\n",
       "      <th>3184</th>\n",
       "      <td>Michigan</td>\n",
       "      <td>32510</td>\n",
       "      <td>349</td>\n",
       "      <td>0.06</td>\n",
       "    </tr>\n",
       "    <tr>\n",
       "      <th>2753</th>\n",
       "      <td>Michigan</td>\n",
       "      <td>12600</td>\n",
       "      <td>1015</td>\n",
       "      <td>0.00</td>\n",
       "    </tr>\n",
       "    <tr>\n",
       "      <th>3332</th>\n",
       "      <td>Michigan</td>\n",
       "      <td>12586</td>\n",
       "      <td>1417</td>\n",
       "      <td>0.06</td>\n",
       "    </tr>\n",
       "    <tr>\n",
       "      <th>7433</th>\n",
       "      <td>Michigan</td>\n",
       "      <td>10589</td>\n",
       "      <td>1521</td>\n",
       "      <td>0.03</td>\n",
       "    </tr>\n",
       "    <tr>\n",
       "      <th>155</th>\n",
       "      <td>Michigan</td>\n",
       "      <td>9540</td>\n",
       "      <td>-164</td>\n",
       "      <td>0.02</td>\n",
       "    </tr>\n",
       "    <tr>\n",
       "      <th>...</th>\n",
       "      <td>...</td>\n",
       "      <td>...</td>\n",
       "      <td>...</td>\n",
       "      <td>...</td>\n",
       "    </tr>\n",
       "    <tr>\n",
       "      <th>8649</th>\n",
       "      <td>Michigan</td>\n",
       "      <td>8</td>\n",
       "      <td>-12</td>\n",
       "      <td>0.04</td>\n",
       "    </tr>\n",
       "    <tr>\n",
       "      <th>6662</th>\n",
       "      <td>Michigan</td>\n",
       "      <td>5</td>\n",
       "      <td>-3</td>\n",
       "      <td>0.01</td>\n",
       "    </tr>\n",
       "    <tr>\n",
       "      <th>7415</th>\n",
       "      <td>Michigan</td>\n",
       "      <td>4</td>\n",
       "      <td>-15</td>\n",
       "      <td>0.05</td>\n",
       "    </tr>\n",
       "    <tr>\n",
       "      <th>8427</th>\n",
       "      <td>Michigan</td>\n",
       "      <td>3</td>\n",
       "      <td>1</td>\n",
       "      <td>0.01</td>\n",
       "    </tr>\n",
       "    <tr>\n",
       "      <th>4335</th>\n",
       "      <td>Michigan</td>\n",
       "      <td>2</td>\n",
       "      <td>-1</td>\n",
       "      <td>0.01</td>\n",
       "    </tr>\n",
       "  </tbody>\n",
       "</table>\n",
       "<p>327 rows × 4 columns</p>\n",
       "</div>"
      ],
      "text/plain": [
       "         State  Sales  Profit  Discount\n",
       "3184  Michigan  32510     349      0.06\n",
       "2753  Michigan  12600    1015      0.00\n",
       "3332  Michigan  12586    1417      0.06\n",
       "7433  Michigan  10589    1521      0.03\n",
       "155   Michigan   9540    -164      0.02\n",
       "...        ...    ...     ...       ...\n",
       "8649  Michigan      8     -12      0.04\n",
       "6662  Michigan      5      -3      0.01\n",
       "7415  Michigan      4     -15      0.05\n",
       "8427  Michigan      3       1      0.01\n",
       "4335  Michigan      2      -1      0.01\n",
       "\n",
       "[327 rows x 4 columns]"
      ]
     },
     "execution_count": 30,
     "metadata": {},
     "output_type": "execute_result"
    }
   ],
   "source": [
    "df1_mich = df1[df1['State'] == 'Michigan']\n",
    "df1_mich = df1_mich.sort_values(by = 'Sales', ascending = False)\n",
    "df1_mich"
   ]
  },
  {
   "cell_type": "code",
   "execution_count": 41,
   "id": "15c8a444-354d-4704-bc3e-e8ba1dc00842",
   "metadata": {
    "tags": []
   },
   "outputs": [
    {
     "data": {
      "text/plain": [
       "-238"
      ]
     },
     "execution_count": 41,
     "metadata": {},
     "output_type": "execute_result"
    }
   ],
   "source": [
    "# Merging both df1_cali and df1_mich\n",
    "df1_combined = pd.concat([df1_cali, df1_mich], axis = 0)\n",
    "df1_combined = df1_combined.reset_index(drop=True)\n",
    "df1_combined.iloc[1000,2]"
   ]
  },
  {
   "cell_type": "code",
   "execution_count": 42,
   "id": "3fa028fb-6e7e-4093-aa7b-9370ba08e4e0",
   "metadata": {
    "tags": []
   },
   "outputs": [],
   "source": [
    "# 3. Use the Superstore data (you may need to re-read it into Pandas so it has 26 columns to begin with). \n",
    "# Create a dataframe that sorts average sales by category. \n",
    "# Rename this column as 'Avg_Cat_Sales' using the rename function\n",
    "# (look up the documentation https://pandas.pydata.org/docs/reference/api/pandas.DataFrame.rename.html).\n",
    "# Merge this dataframe with the original dataframe using category as the key, so a new column Avg_Cat_Sales showing average sales for the category in each row is added.\n",
    "# (i.e. the original dataframe is not changed, but simply has an extra column added on the right).\n",
    "# What's the value at index [1000, 26]? Round to nearest 1 decimal. "
   ]
  },
  {
   "cell_type": "code",
   "execution_count": 51,
   "id": "9c26cb7b-4027-4096-b04c-365309da1daa",
   "metadata": {
    "tags": []
   },
   "outputs": [
    {
     "data": {
      "text/plain": [
       "183.91588107324148"
      ]
     },
     "execution_count": 51,
     "metadata": {},
     "output_type": "execute_result"
    }
   ],
   "source": [
    "df3 = store.groupby('Category')['Sales'].mean().reset_index()\n",
    "df3 = df3.rename(columns={'Sales': 'Avg_Cat_Sales'})\n",
    "merged_data = store.merge(df3, on='Category', how='left')\n",
    "merged_data.iloc[1000,26]"
   ]
  },
  {
   "cell_type": "code",
   "execution_count": 52,
   "id": "187edebf-e8b1-41af-a100-1fc069ed2b38",
   "metadata": {
    "tags": []
   },
   "outputs": [
    {
     "data": {
      "text/plain": [
       "19568"
      ]
     },
     "execution_count": 52,
     "metadata": {},
     "output_type": "execute_result"
    }
   ],
   "source": [
    "# Use the Superstore data (you may need to re-read it into Pandas so it has columns to begin with)\n",
    "# create a dataframe that shows tha max values (sales) of a transaction in each state\n",
    "# Rename this column Max_state_sales.\n",
    "# merge this dataframe with the original dataframe using state as the key, so a new column Max_state_sales\n",
    "# showing max sales for the state in each row is added.\n",
    "# (i.e., the original dataframe is not changed, but simply has an extra columns added on the right)\n",
    "# what's the value at index [500,26]?\n",
    "\n",
    "\n",
    "max_state_sales= store.groupby(\"State\")[\"Sales\"].max().reset_index()\n",
    "\n",
    "\n",
    "max_state_sales.rename(columns={\"Sales\": \"Max_state_sales\"}, inplace=True)\n",
    "\n",
    "\n",
    "merged_df = store.merge(max_state_sales, on=\"State\", how=\"left\")\n",
    "\n",
    "\n",
    "value_at_index_500_26 = merged_df.at[500, \"Max_state_sales\"]\n",
    "value_at_index_500_26"
   ]
  },
  {
   "cell_type": "code",
   "execution_count": 55,
   "id": "517c660d-2cd4-42fc-922c-55e9b1855ae1",
   "metadata": {
    "tags": []
   },
   "outputs": [],
   "source": [
    "# 5. Create a dataframe that counts the number of records for the paper category by customer id. \n",
    "# Create another dataframe that counts the number of records for the tables category by customer id. \n",
    "# Merge the 2 dataframes by customer id so only customer ids with purchases in both categories are kept. \n",
    "# How many customers made purchases in both categories?"
   ]
  },
  {
   "cell_type": "code",
   "execution_count": 68,
   "id": "92274cab-c4a7-48d0-968d-02a36f27fc1f",
   "metadata": {
    "tags": []
   },
   "outputs": [
    {
     "data": {
      "text/html": [
       "<div>\n",
       "<style scoped>\n",
       "    .dataframe tbody tr th:only-of-type {\n",
       "        vertical-align: middle;\n",
       "    }\n",
       "\n",
       "    .dataframe tbody tr th {\n",
       "        vertical-align: top;\n",
       "    }\n",
       "\n",
       "    .dataframe thead th {\n",
       "        text-align: right;\n",
       "    }\n",
       "</style>\n",
       "<table border=\"1\" class=\"dataframe\">\n",
       "  <thead>\n",
       "    <tr style=\"text-align: right;\">\n",
       "      <th></th>\n",
       "      <th>Customer ID</th>\n",
       "      <th>Paper Count</th>\n",
       "    </tr>\n",
       "  </thead>\n",
       "  <tbody>\n",
       "    <tr>\n",
       "      <th>0</th>\n",
       "      <td>3</td>\n",
       "      <td>2</td>\n",
       "    </tr>\n",
       "    <tr>\n",
       "      <th>1</th>\n",
       "      <td>5</td>\n",
       "      <td>1</td>\n",
       "    </tr>\n",
       "    <tr>\n",
       "      <th>2</th>\n",
       "      <td>6</td>\n",
       "      <td>1</td>\n",
       "    </tr>\n",
       "    <tr>\n",
       "      <th>3</th>\n",
       "      <td>7</td>\n",
       "      <td>1</td>\n",
       "    </tr>\n",
       "    <tr>\n",
       "      <th>4</th>\n",
       "      <td>14</td>\n",
       "      <td>1</td>\n",
       "    </tr>\n",
       "    <tr>\n",
       "      <th>...</th>\n",
       "      <td>...</td>\n",
       "      <td>...</td>\n",
       "    </tr>\n",
       "    <tr>\n",
       "      <th>1023</th>\n",
       "      <td>3394</td>\n",
       "      <td>2</td>\n",
       "    </tr>\n",
       "    <tr>\n",
       "      <th>1024</th>\n",
       "      <td>3396</td>\n",
       "      <td>2</td>\n",
       "    </tr>\n",
       "    <tr>\n",
       "      <th>1025</th>\n",
       "      <td>3397</td>\n",
       "      <td>1</td>\n",
       "    </tr>\n",
       "    <tr>\n",
       "      <th>1026</th>\n",
       "      <td>3399</td>\n",
       "      <td>1</td>\n",
       "    </tr>\n",
       "    <tr>\n",
       "      <th>1027</th>\n",
       "      <td>3400</td>\n",
       "      <td>1</td>\n",
       "    </tr>\n",
       "  </tbody>\n",
       "</table>\n",
       "<p>1028 rows × 2 columns</p>\n",
       "</div>"
      ],
      "text/plain": [
       "      Customer ID  Paper Count\n",
       "0               3            2\n",
       "1               5            1\n",
       "2               6            1\n",
       "3               7            1\n",
       "4              14            1\n",
       "...           ...          ...\n",
       "1023         3394            2\n",
       "1024         3396            2\n",
       "1025         3397            1\n",
       "1026         3399            1\n",
       "1027         3400            1\n",
       "\n",
       "[1028 rows x 2 columns]"
      ]
     },
     "execution_count": 68,
     "metadata": {},
     "output_type": "execute_result"
    }
   ],
   "source": [
    "\n",
    "# Create a DataFrame counting the number of records for the 'Paper' category by customer ID\n",
    "paper_count = store[store['Category'] == 'Paper'].groupby('Customer ID').size().reset_index(name='Paper Count')\n",
    "paper_count"
   ]
  },
  {
   "cell_type": "code",
   "execution_count": 70,
   "id": "41ac9a2a-9f1c-4300-8873-cf2706d290b9",
   "metadata": {
    "tags": []
   },
   "outputs": [
    {
     "data": {
      "text/html": [
       "<div>\n",
       "<style scoped>\n",
       "    .dataframe tbody tr th:only-of-type {\n",
       "        vertical-align: middle;\n",
       "    }\n",
       "\n",
       "    .dataframe tbody tr th {\n",
       "        vertical-align: top;\n",
       "    }\n",
       "\n",
       "    .dataframe thead th {\n",
       "        text-align: right;\n",
       "    }\n",
       "</style>\n",
       "<table border=\"1\" class=\"dataframe\">\n",
       "  <thead>\n",
       "    <tr style=\"text-align: right;\">\n",
       "      <th></th>\n",
       "      <th>Customer ID</th>\n",
       "      <th>Tables Count</th>\n",
       "    </tr>\n",
       "  </thead>\n",
       "  <tbody>\n",
       "    <tr>\n",
       "      <th>0</th>\n",
       "      <td>9</td>\n",
       "      <td>1</td>\n",
       "    </tr>\n",
       "    <tr>\n",
       "      <th>1</th>\n",
       "      <td>20</td>\n",
       "      <td>1</td>\n",
       "    </tr>\n",
       "    <tr>\n",
       "      <th>2</th>\n",
       "      <td>21</td>\n",
       "      <td>1</td>\n",
       "    </tr>\n",
       "    <tr>\n",
       "      <th>3</th>\n",
       "      <td>23</td>\n",
       "      <td>1</td>\n",
       "    </tr>\n",
       "    <tr>\n",
       "      <th>4</th>\n",
       "      <td>55</td>\n",
       "      <td>2</td>\n",
       "    </tr>\n",
       "    <tr>\n",
       "      <th>...</th>\n",
       "      <td>...</td>\n",
       "      <td>...</td>\n",
       "    </tr>\n",
       "    <tr>\n",
       "      <th>368</th>\n",
       "      <td>3359</td>\n",
       "      <td>1</td>\n",
       "    </tr>\n",
       "    <tr>\n",
       "      <th>369</th>\n",
       "      <td>3367</td>\n",
       "      <td>1</td>\n",
       "    </tr>\n",
       "    <tr>\n",
       "      <th>370</th>\n",
       "      <td>3374</td>\n",
       "      <td>1</td>\n",
       "    </tr>\n",
       "    <tr>\n",
       "      <th>371</th>\n",
       "      <td>3375</td>\n",
       "      <td>1</td>\n",
       "    </tr>\n",
       "    <tr>\n",
       "      <th>372</th>\n",
       "      <td>3402</td>\n",
       "      <td>2</td>\n",
       "    </tr>\n",
       "  </tbody>\n",
       "</table>\n",
       "<p>373 rows × 2 columns</p>\n",
       "</div>"
      ],
      "text/plain": [
       "     Customer ID  Tables Count\n",
       "0              9             1\n",
       "1             20             1\n",
       "2             21             1\n",
       "3             23             1\n",
       "4             55             2\n",
       "..           ...           ...\n",
       "368         3359             1\n",
       "369         3367             1\n",
       "370         3374             1\n",
       "371         3375             1\n",
       "372         3402             2\n",
       "\n",
       "[373 rows x 2 columns]"
      ]
     },
     "execution_count": 70,
     "metadata": {},
     "output_type": "execute_result"
    }
   ],
   "source": [
    "# Create a DataFrame counting the number of records for the 'Tables' category by customer ID\n",
    "tables_count = store[store['Category'] == 'Tables'].groupby('Customer ID').size().reset_index(name='Tables Count')\n",
    "tables_count"
   ]
  },
  {
   "cell_type": "code",
   "execution_count": 71,
   "id": "252e66ba-685d-4f11-a6c1-fd7d4a68b1d9",
   "metadata": {
    "tags": []
   },
   "outputs": [
    {
     "data": {
      "text/html": [
       "<div>\n",
       "<style scoped>\n",
       "    .dataframe tbody tr th:only-of-type {\n",
       "        vertical-align: middle;\n",
       "    }\n",
       "\n",
       "    .dataframe tbody tr th {\n",
       "        vertical-align: top;\n",
       "    }\n",
       "\n",
       "    .dataframe thead th {\n",
       "        text-align: right;\n",
       "    }\n",
       "</style>\n",
       "<table border=\"1\" class=\"dataframe\">\n",
       "  <thead>\n",
       "    <tr style=\"text-align: right;\">\n",
       "      <th></th>\n",
       "      <th>Customer ID</th>\n",
       "      <th>Paper Count</th>\n",
       "      <th>Tables Count</th>\n",
       "    </tr>\n",
       "  </thead>\n",
       "  <tbody>\n",
       "    <tr>\n",
       "      <th>0</th>\n",
       "      <td>20</td>\n",
       "      <td>1</td>\n",
       "      <td>1</td>\n",
       "    </tr>\n",
       "    <tr>\n",
       "      <th>1</th>\n",
       "      <td>21</td>\n",
       "      <td>1</td>\n",
       "      <td>1</td>\n",
       "    </tr>\n",
       "    <tr>\n",
       "      <th>2</th>\n",
       "      <td>23</td>\n",
       "      <td>2</td>\n",
       "      <td>1</td>\n",
       "    </tr>\n",
       "    <tr>\n",
       "      <th>3</th>\n",
       "      <td>83</td>\n",
       "      <td>1</td>\n",
       "      <td>1</td>\n",
       "    </tr>\n",
       "    <tr>\n",
       "      <th>4</th>\n",
       "      <td>93</td>\n",
       "      <td>1</td>\n",
       "      <td>1</td>\n",
       "    </tr>\n",
       "    <tr>\n",
       "      <th>...</th>\n",
       "      <td>...</td>\n",
       "      <td>...</td>\n",
       "      <td>...</td>\n",
       "    </tr>\n",
       "    <tr>\n",
       "      <th>179</th>\n",
       "      <td>3289</td>\n",
       "      <td>2</td>\n",
       "      <td>2</td>\n",
       "    </tr>\n",
       "    <tr>\n",
       "      <th>180</th>\n",
       "      <td>3299</td>\n",
       "      <td>1</td>\n",
       "      <td>1</td>\n",
       "    </tr>\n",
       "    <tr>\n",
       "      <th>181</th>\n",
       "      <td>3367</td>\n",
       "      <td>1</td>\n",
       "      <td>1</td>\n",
       "    </tr>\n",
       "    <tr>\n",
       "      <th>182</th>\n",
       "      <td>3374</td>\n",
       "      <td>2</td>\n",
       "      <td>1</td>\n",
       "    </tr>\n",
       "    <tr>\n",
       "      <th>183</th>\n",
       "      <td>3375</td>\n",
       "      <td>1</td>\n",
       "      <td>1</td>\n",
       "    </tr>\n",
       "  </tbody>\n",
       "</table>\n",
       "<p>184 rows × 3 columns</p>\n",
       "</div>"
      ],
      "text/plain": [
       "     Customer ID  Paper Count  Tables Count\n",
       "0             20            1             1\n",
       "1             21            1             1\n",
       "2             23            2             1\n",
       "3             83            1             1\n",
       "4             93            1             1\n",
       "..           ...          ...           ...\n",
       "179         3289            2             2\n",
       "180         3299            1             1\n",
       "181         3367            1             1\n",
       "182         3374            2             1\n",
       "183         3375            1             1\n",
       "\n",
       "[184 rows x 3 columns]"
      ]
     },
     "execution_count": 71,
     "metadata": {},
     "output_type": "execute_result"
    }
   ],
   "source": [
    "# Merge the two DataFrames by customer ID\n",
    "merged_counts = pd.merge(paper_count, tables_count, on='Customer ID', how='inner')\n",
    "\n",
    "merged_counts"
   ]
  },
  {
   "cell_type": "code",
   "execution_count": 74,
   "id": "1d2ef155-3ca1-4bdf-a353-d16ccc9f5511",
   "metadata": {
    "tags": []
   },
   "outputs": [],
   "source": [
    "# 6. Add a third column to the dataframe in Q5 that shows number of records made for the telephones and communication category by customer id. \n",
    "# The dataframe should only show customer ids with purchases in all 3 categories. \n",
    "# How many customers made purchases in all 3 categories?"
   ]
  },
  {
   "cell_type": "code",
   "execution_count": 79,
   "id": "4f51d536-2a38-4df9-93a1-a67db63b760b",
   "metadata": {
    "tags": []
   },
   "outputs": [
    {
     "data": {
      "text/html": [
       "<div>\n",
       "<style scoped>\n",
       "    .dataframe tbody tr th:only-of-type {\n",
       "        vertical-align: middle;\n",
       "    }\n",
       "\n",
       "    .dataframe tbody tr th {\n",
       "        vertical-align: top;\n",
       "    }\n",
       "\n",
       "    .dataframe thead th {\n",
       "        text-align: right;\n",
       "    }\n",
       "</style>\n",
       "<table border=\"1\" class=\"dataframe\">\n",
       "  <thead>\n",
       "    <tr style=\"text-align: right;\">\n",
       "      <th></th>\n",
       "      <th>Customer ID</th>\n",
       "      <th>Paper Count</th>\n",
       "      <th>Tables Count</th>\n",
       "      <th>Telcom Count</th>\n",
       "    </tr>\n",
       "  </thead>\n",
       "  <tbody>\n",
       "    <tr>\n",
       "      <th>0</th>\n",
       "      <td>93</td>\n",
       "      <td>1</td>\n",
       "      <td>1</td>\n",
       "      <td>1</td>\n",
       "    </tr>\n",
       "    <tr>\n",
       "      <th>1</th>\n",
       "      <td>117</td>\n",
       "      <td>1</td>\n",
       "      <td>1</td>\n",
       "      <td>1</td>\n",
       "    </tr>\n",
       "    <tr>\n",
       "      <th>2</th>\n",
       "      <td>194</td>\n",
       "      <td>2</td>\n",
       "      <td>1</td>\n",
       "      <td>1</td>\n",
       "    </tr>\n",
       "    <tr>\n",
       "      <th>3</th>\n",
       "      <td>198</td>\n",
       "      <td>4</td>\n",
       "      <td>1</td>\n",
       "      <td>1</td>\n",
       "    </tr>\n",
       "    <tr>\n",
       "      <th>4</th>\n",
       "      <td>211</td>\n",
       "      <td>1</td>\n",
       "      <td>1</td>\n",
       "      <td>3</td>\n",
       "    </tr>\n",
       "    <tr>\n",
       "      <th>...</th>\n",
       "      <td>...</td>\n",
       "      <td>...</td>\n",
       "      <td>...</td>\n",
       "      <td>...</td>\n",
       "    </tr>\n",
       "    <tr>\n",
       "      <th>69</th>\n",
       "      <td>3011</td>\n",
       "      <td>3</td>\n",
       "      <td>1</td>\n",
       "      <td>1</td>\n",
       "    </tr>\n",
       "    <tr>\n",
       "      <th>70</th>\n",
       "      <td>3083</td>\n",
       "      <td>2</td>\n",
       "      <td>2</td>\n",
       "      <td>1</td>\n",
       "    </tr>\n",
       "    <tr>\n",
       "      <th>71</th>\n",
       "      <td>3151</td>\n",
       "      <td>2</td>\n",
       "      <td>3</td>\n",
       "      <td>1</td>\n",
       "    </tr>\n",
       "    <tr>\n",
       "      <th>72</th>\n",
       "      <td>3188</td>\n",
       "      <td>1</td>\n",
       "      <td>1</td>\n",
       "      <td>2</td>\n",
       "    </tr>\n",
       "    <tr>\n",
       "      <th>73</th>\n",
       "      <td>3239</td>\n",
       "      <td>2</td>\n",
       "      <td>1</td>\n",
       "      <td>1</td>\n",
       "    </tr>\n",
       "  </tbody>\n",
       "</table>\n",
       "<p>74 rows × 4 columns</p>\n",
       "</div>"
      ],
      "text/plain": [
       "    Customer ID  Paper Count  Tables Count  Telcom Count\n",
       "0            93            1             1             1\n",
       "1           117            1             1             1\n",
       "2           194            2             1             1\n",
       "3           198            4             1             1\n",
       "4           211            1             1             3\n",
       "..          ...          ...           ...           ...\n",
       "69         3011            3             1             1\n",
       "70         3083            2             2             1\n",
       "71         3151            2             3             1\n",
       "72         3188            1             1             2\n",
       "73         3239            2             1             1\n",
       "\n",
       "[74 rows x 4 columns]"
      ]
     },
     "execution_count": 79,
     "metadata": {},
     "output_type": "execute_result"
    }
   ],
   "source": [
    "telcom_count = store[store['Category'] == 'Telephones and Communication'].groupby('Customer ID').size().reset_index(name='Telcom Count')\n",
    "merged_counts = pd.merge(merged_counts, telcom_count, on='Customer ID', how='inner')\n",
    "merged_counts"
   ]
  },
  {
   "cell_type": "code",
   "execution_count": 80,
   "id": "4f8b1a80-e996-49c7-ac82-3ba35a6cc537",
   "metadata": {
    "tags": []
   },
   "outputs": [],
   "source": [
    "# 7. Create a dataframe that shows the number of records for each category in 2016 and 2017 using order date. \n",
    "# i.e. Each row should show the number of records for a category in 2016 and 2017. \n",
    "# There should be 3 columns: Category, 2016_Records, and 2017_Records. Sort the dataframe by category. \n",
    "# What’s the value at index [10, 2]?"
   ]
  },
  {
   "cell_type": "code",
   "execution_count": 89,
   "id": "7bd56763-c169-4bb9-aea1-1f707d97a4a3",
   "metadata": {
    "tags": []
   },
   "outputs": [
    {
     "data": {
      "text/plain": [
       "Index(['Category', 'City', 'Container', 'Customer ID', 'Customer Name',\n",
       "       'Customer Segment', 'Department', 'Discount', 'Item ID', 'Item',\n",
       "       'Number of Records', 'Order Date', 'Order ID', 'Order Priority',\n",
       "       'Order Quantity', 'Postal Code', 'Product Base Margin', 'Profit',\n",
       "       'Region', 'Row ID', 'Sales', 'Ship Date', 'Ship Mode', 'Shipping Cost',\n",
       "       'State', 'Unit Price'],\n",
       "      dtype='object')"
      ]
     },
     "execution_count": 89,
     "metadata": {},
     "output_type": "execute_result"
    }
   ],
   "source": [
    "store.columns"
   ]
  },
  {
   "cell_type": "code",
   "execution_count": 105,
   "id": "b086f0e6-1cff-45f8-a03d-88b22a11634b",
   "metadata": {
    "tags": []
   },
   "outputs": [
    {
     "data": {
      "text/html": [
       "<div>\n",
       "<style scoped>\n",
       "    .dataframe tbody tr th:only-of-type {\n",
       "        vertical-align: middle;\n",
       "    }\n",
       "\n",
       "    .dataframe tbody tr th {\n",
       "        vertical-align: top;\n",
       "    }\n",
       "\n",
       "    .dataframe thead th {\n",
       "        text-align: right;\n",
       "    }\n",
       "</style>\n",
       "<table border=\"1\" class=\"dataframe\">\n",
       "  <thead>\n",
       "    <tr style=\"text-align: right;\">\n",
       "      <th></th>\n",
       "      <th>Category</th>\n",
       "      <th>2016</th>\n",
       "      <th>2017</th>\n",
       "    </tr>\n",
       "  </thead>\n",
       "  <tbody>\n",
       "    <tr>\n",
       "      <th>0</th>\n",
       "      <td>Appliances</td>\n",
       "      <td>186</td>\n",
       "      <td>191</td>\n",
       "    </tr>\n",
       "    <tr>\n",
       "      <th>1</th>\n",
       "      <td>Binders and Binder Accessories</td>\n",
       "      <td>396</td>\n",
       "      <td>424</td>\n",
       "    </tr>\n",
       "    <tr>\n",
       "      <th>2</th>\n",
       "      <td>Bookcases</td>\n",
       "      <td>78</td>\n",
       "      <td>85</td>\n",
       "    </tr>\n",
       "    <tr>\n",
       "      <th>3</th>\n",
       "      <td>Chairs &amp; Chairmats</td>\n",
       "      <td>160</td>\n",
       "      <td>163</td>\n",
       "    </tr>\n",
       "    <tr>\n",
       "      <th>4</th>\n",
       "      <td>Computer Peripherals</td>\n",
       "      <td>303</td>\n",
       "      <td>345</td>\n",
       "    </tr>\n",
       "    <tr>\n",
       "      <th>5</th>\n",
       "      <td>Copiers and Fax</td>\n",
       "      <td>30</td>\n",
       "      <td>49</td>\n",
       "    </tr>\n",
       "    <tr>\n",
       "      <th>6</th>\n",
       "      <td>Envelopes</td>\n",
       "      <td>123</td>\n",
       "      <td>93</td>\n",
       "    </tr>\n",
       "    <tr>\n",
       "      <th>7</th>\n",
       "      <td>Labels</td>\n",
       "      <td>130</td>\n",
       "      <td>138</td>\n",
       "    </tr>\n",
       "    <tr>\n",
       "      <th>8</th>\n",
       "      <td>Office Furnishings</td>\n",
       "      <td>321</td>\n",
       "      <td>353</td>\n",
       "    </tr>\n",
       "    <tr>\n",
       "      <th>9</th>\n",
       "      <td>Office Machines</td>\n",
       "      <td>134</td>\n",
       "      <td>159</td>\n",
       "    </tr>\n",
       "    <tr>\n",
       "      <th>10</th>\n",
       "      <td>Paper</td>\n",
       "      <td>516</td>\n",
       "      <td>534</td>\n",
       "    </tr>\n",
       "    <tr>\n",
       "      <th>11</th>\n",
       "      <td>Pens &amp; Art Supplies</td>\n",
       "      <td>275</td>\n",
       "      <td>257</td>\n",
       "    </tr>\n",
       "    <tr>\n",
       "      <th>12</th>\n",
       "      <td>Rubber Bands</td>\n",
       "      <td>72</td>\n",
       "      <td>88</td>\n",
       "    </tr>\n",
       "    <tr>\n",
       "      <th>13</th>\n",
       "      <td>Scissors, Rulers and Trimmers</td>\n",
       "      <td>65</td>\n",
       "      <td>65</td>\n",
       "    </tr>\n",
       "    <tr>\n",
       "      <th>14</th>\n",
       "      <td>Storage &amp; Organization</td>\n",
       "      <td>227</td>\n",
       "      <td>243</td>\n",
       "    </tr>\n",
       "    <tr>\n",
       "      <th>15</th>\n",
       "      <td>Tables</td>\n",
       "      <td>170</td>\n",
       "      <td>146</td>\n",
       "    </tr>\n",
       "    <tr>\n",
       "      <th>16</th>\n",
       "      <td>Telephones and Communication</td>\n",
       "      <td>378</td>\n",
       "      <td>400</td>\n",
       "    </tr>\n",
       "  </tbody>\n",
       "</table>\n",
       "</div>"
      ],
      "text/plain": [
       "                          Category  2016  2017\n",
       "0                       Appliances   186   191\n",
       "1   Binders and Binder Accessories   396   424\n",
       "2                        Bookcases    78    85\n",
       "3               Chairs & Chairmats   160   163\n",
       "4             Computer Peripherals   303   345\n",
       "5                  Copiers and Fax    30    49\n",
       "6                        Envelopes   123    93\n",
       "7                           Labels   130   138\n",
       "8               Office Furnishings   321   353\n",
       "9                  Office Machines   134   159\n",
       "10                           Paper   516   534\n",
       "11             Pens & Art Supplies   275   257\n",
       "12                    Rubber Bands    72    88\n",
       "13   Scissors, Rulers and Trimmers    65    65\n",
       "14          Storage & Organization   227   243\n",
       "15                          Tables   170   146\n",
       "16    Telephones and Communication   378   400"
      ]
     },
     "execution_count": 105,
     "metadata": {},
     "output_type": "execute_result"
    }
   ],
   "source": [
    "store['Order Date'] = pd.to_datetime(store['Order Date'])\n",
    "\n",
    "store['Year'] = store['Order Date'].dt.year\n",
    "\n",
    "df_year = store[(store['Year'] == 2016) | (store['Year'] == 2017)]\n",
    "\n",
    "df_category = df_year.groupby(['Category', 'Year']).size().reset_index(name='Records')\n",
    "\n",
    "df_category_pivot = df_category.pivot(index='Category', columns='Year', values='Records').reset_index()\n",
    "df_category_pivot.columns.name = None  # Remove the column name\n",
    "df_category_pivot\n",
    "# df_category_pivot.rename(columns={2016: '2016_Records', 2017: '2017_Records'}, inplace=True)\n",
    "\n",
    "# Sort the DataFrame by category\n",
    "# df_category_pivot = df_category_pivot.sort_values(by='Category')\n",
    "\n",
    "# df_category_pivot.iloc[10,2]"
   ]
  },
  {
   "cell_type": "code",
   "execution_count": 81,
   "id": "b41b9d4e-a5c9-4ec8-9055-ab6166964479",
   "metadata": {
    "tags": []
   },
   "outputs": [],
   "source": [
    "# 8. Create a dataframe that shows total sales for the paper category by order date. Rename the sales column as Paper_Sales. \n",
    "# Create another dataframe that shows total sales for the bookcases category by order date. Rename the sales column as Bookcase_Sales.\n",
    "# Left merge both dataframes (use the dataframe with Paper_Sales as the left dataframe) using order date as the key. \n",
    "# Fill in null values with 0. \n",
    "# How many cells with value of 0 does the column Bookcase_Sales have?"
   ]
  },
  {
   "cell_type": "code",
   "execution_count": 119,
   "id": "a4162893-566d-4dbb-b402-457936faa279",
   "metadata": {
    "tags": []
   },
   "outputs": [
    {
     "data": {
      "text/plain": [
       "375"
      ]
     },
     "execution_count": 119,
     "metadata": {},
     "output_type": "execute_result"
    }
   ],
   "source": [
    "\n",
    "paper_sales = store[store['Category'] == 'Paper'].groupby('Order Date')['Sales'].sum().reset_index()\n",
    "paper_sales.rename(columns={'Sales': 'Paper_Sales'}, inplace=True)\n",
    "\n",
    "bookcase_sales = store[store['Category'] == 'Bookcases'].groupby('Order Date')['Sales'].sum().reset_index()\n",
    "bookcase_sales.rename(columns={'Sales': 'Bookcase_Sales'}, inplace=True)\n",
    "df8_merged = pd.merge(paper_sales, bookcase_sales, on='Order Date', how='left').fillna(0)\n",
    "\n",
    "nulls = (df8_merged['Bookcase_Sales'] == 0).sum()\n",
    "nulls"
   ]
  },
  {
   "cell_type": "code",
   "execution_count": 122,
   "id": "4db5517f-147a-4ecc-b299-876870e41760",
   "metadata": {
    "tags": []
   },
   "outputs": [
    {
     "data": {
      "text/plain": [
       "142"
      ]
     },
     "execution_count": 122,
     "metadata": {},
     "output_type": "execute_result"
    }
   ],
   "source": [
    "# 9. Create a dataframe that shows total sales for the paper category by order date. Rename the sales column as Paper_Sales. \n",
    "# Create another dataframe that shows total sales for the bookcases category by order date. Rename the sales column as Bookcase_Sales.\n",
    "# Inner merge both dataframes using order date as the key. \n",
    "# How many order dates have sales for both paper and bookcases?\n",
    "\n",
    "df9_merged = pd.merge(paper_sales, bookcase_sales, on='Order Date', how='inner')\n",
    "no_nulls = df9_merged[(df9_merged['Paper_Sales'] != 0) & (df9_merged['Bookcase_Sales'] != 0)]\n",
    "order_dates_with_sales = len(no_nulls['Order Date'].unique())\n",
    "order_dates_with_sales\n"
   ]
  },
  {
   "cell_type": "code",
   "execution_count": 126,
   "id": "012c7b35-88ea-431c-b0ea-28d226ef2c30",
   "metadata": {
    "tags": []
   },
   "outputs": [
    {
     "data": {
      "text/plain": [
       "Order Date          0\n",
       "Paper_Sales        22\n",
       "Bookcase_Sales    375\n",
       "dtype: int64"
      ]
     },
     "execution_count": 126,
     "metadata": {},
     "output_type": "execute_result"
    }
   ],
   "source": [
    "# 10. Create a dataframe that shows total sales for the paper category by order date. Rename the sales column as Paper_Sales. \n",
    "# Create another dataframe that shows total sales for the bookcases category by order date. Rename the sales column as Bookcase_Sales.\n",
    "# Outer merge both dataframes using order date as the key. Fill in null values with 0. \n",
    "# How many total cells are there with value of 0 in the dataframe?\n",
    "\n",
    "df9_merged = pd.merge(paper_sales, bookcase_sales, on='Order Date', how='outer').fillna(0)\n",
    "zero_count = (df9_merged == 0).sum()\n",
    "zero_count"
   ]
  },
  {
   "cell_type": "code",
   "execution_count": 129,
   "id": "3c76019a-2701-4eed-825e-7f9a936c1590",
   "metadata": {
    "tags": []
   },
   "outputs": [
    {
     "data": {
      "text/html": [
       "<div>\n",
       "<style scoped>\n",
       "    .dataframe tbody tr th:only-of-type {\n",
       "        vertical-align: middle;\n",
       "    }\n",
       "\n",
       "    .dataframe tbody tr th {\n",
       "        vertical-align: top;\n",
       "    }\n",
       "\n",
       "    .dataframe thead th {\n",
       "        text-align: right;\n",
       "    }\n",
       "</style>\n",
       "<table border=\"1\" class=\"dataframe\">\n",
       "  <thead>\n",
       "    <tr style=\"text-align: right;\">\n",
       "      <th></th>\n",
       "      <th>diagnosis</th>\n",
       "      <th>mean radius</th>\n",
       "      <th>mean texture</th>\n",
       "      <th>mean perimeter</th>\n",
       "      <th>mean area</th>\n",
       "      <th>mean smoothness</th>\n",
       "      <th>mean compactness</th>\n",
       "      <th>mean concavity</th>\n",
       "      <th>mean concave points</th>\n",
       "      <th>mean symmetry</th>\n",
       "      <th>...</th>\n",
       "      <th>worst radius</th>\n",
       "      <th>worst texture</th>\n",
       "      <th>worst perimeter</th>\n",
       "      <th>worst area</th>\n",
       "      <th>worst smoothness</th>\n",
       "      <th>worst compactness</th>\n",
       "      <th>worst concavity</th>\n",
       "      <th>worst concave points</th>\n",
       "      <th>worst symmetry</th>\n",
       "      <th>worst fractal dimension</th>\n",
       "    </tr>\n",
       "  </thead>\n",
       "  <tbody>\n",
       "    <tr>\n",
       "      <th>0</th>\n",
       "      <td>0</td>\n",
       "      <td>17.99</td>\n",
       "      <td>10.38</td>\n",
       "      <td>122.80</td>\n",
       "      <td>1001.0</td>\n",
       "      <td>0.11840</td>\n",
       "      <td>0.27760</td>\n",
       "      <td>0.3001</td>\n",
       "      <td>0.14710</td>\n",
       "      <td>0.2419</td>\n",
       "      <td>...</td>\n",
       "      <td>25.38</td>\n",
       "      <td>17.33</td>\n",
       "      <td>184.60</td>\n",
       "      <td>2019.0</td>\n",
       "      <td>0.1622</td>\n",
       "      <td>0.6656</td>\n",
       "      <td>0.7119</td>\n",
       "      <td>0.2654</td>\n",
       "      <td>0.4601</td>\n",
       "      <td>0.11890</td>\n",
       "    </tr>\n",
       "    <tr>\n",
       "      <th>1</th>\n",
       "      <td>0</td>\n",
       "      <td>20.57</td>\n",
       "      <td>17.77</td>\n",
       "      <td>132.90</td>\n",
       "      <td>1326.0</td>\n",
       "      <td>0.08474</td>\n",
       "      <td>0.07864</td>\n",
       "      <td>0.0869</td>\n",
       "      <td>0.07017</td>\n",
       "      <td>0.1812</td>\n",
       "      <td>...</td>\n",
       "      <td>24.99</td>\n",
       "      <td>23.41</td>\n",
       "      <td>158.80</td>\n",
       "      <td>1956.0</td>\n",
       "      <td>0.1238</td>\n",
       "      <td>0.1866</td>\n",
       "      <td>0.2416</td>\n",
       "      <td>0.1860</td>\n",
       "      <td>0.2750</td>\n",
       "      <td>0.08902</td>\n",
       "    </tr>\n",
       "    <tr>\n",
       "      <th>2</th>\n",
       "      <td>0</td>\n",
       "      <td>19.69</td>\n",
       "      <td>21.25</td>\n",
       "      <td>130.00</td>\n",
       "      <td>1203.0</td>\n",
       "      <td>0.10960</td>\n",
       "      <td>0.15990</td>\n",
       "      <td>0.1974</td>\n",
       "      <td>0.12790</td>\n",
       "      <td>0.2069</td>\n",
       "      <td>...</td>\n",
       "      <td>23.57</td>\n",
       "      <td>25.53</td>\n",
       "      <td>152.50</td>\n",
       "      <td>1709.0</td>\n",
       "      <td>0.1444</td>\n",
       "      <td>0.4245</td>\n",
       "      <td>0.4504</td>\n",
       "      <td>0.2430</td>\n",
       "      <td>0.3613</td>\n",
       "      <td>0.08758</td>\n",
       "    </tr>\n",
       "    <tr>\n",
       "      <th>3</th>\n",
       "      <td>0</td>\n",
       "      <td>11.42</td>\n",
       "      <td>20.38</td>\n",
       "      <td>77.58</td>\n",
       "      <td>386.1</td>\n",
       "      <td>0.14250</td>\n",
       "      <td>0.28390</td>\n",
       "      <td>0.2414</td>\n",
       "      <td>0.10520</td>\n",
       "      <td>0.2597</td>\n",
       "      <td>...</td>\n",
       "      <td>14.91</td>\n",
       "      <td>26.50</td>\n",
       "      <td>98.87</td>\n",
       "      <td>567.7</td>\n",
       "      <td>0.2098</td>\n",
       "      <td>0.8663</td>\n",
       "      <td>0.6869</td>\n",
       "      <td>0.2575</td>\n",
       "      <td>0.6638</td>\n",
       "      <td>0.17300</td>\n",
       "    </tr>\n",
       "    <tr>\n",
       "      <th>4</th>\n",
       "      <td>0</td>\n",
       "      <td>20.29</td>\n",
       "      <td>14.34</td>\n",
       "      <td>135.10</td>\n",
       "      <td>1297.0</td>\n",
       "      <td>0.10030</td>\n",
       "      <td>0.13280</td>\n",
       "      <td>0.1980</td>\n",
       "      <td>0.10430</td>\n",
       "      <td>0.1809</td>\n",
       "      <td>...</td>\n",
       "      <td>22.54</td>\n",
       "      <td>16.67</td>\n",
       "      <td>152.20</td>\n",
       "      <td>1575.0</td>\n",
       "      <td>0.1374</td>\n",
       "      <td>0.2050</td>\n",
       "      <td>0.4000</td>\n",
       "      <td>0.1625</td>\n",
       "      <td>0.2364</td>\n",
       "      <td>0.07678</td>\n",
       "    </tr>\n",
       "  </tbody>\n",
       "</table>\n",
       "<p>5 rows × 31 columns</p>\n",
       "</div>"
      ],
      "text/plain": [
       "   diagnosis  mean radius  mean texture  mean perimeter  mean area  \\\n",
       "0          0        17.99         10.38          122.80     1001.0   \n",
       "1          0        20.57         17.77          132.90     1326.0   \n",
       "2          0        19.69         21.25          130.00     1203.0   \n",
       "3          0        11.42         20.38           77.58      386.1   \n",
       "4          0        20.29         14.34          135.10     1297.0   \n",
       "\n",
       "   mean smoothness  mean compactness  mean concavity  mean concave points  \\\n",
       "0          0.11840           0.27760          0.3001              0.14710   \n",
       "1          0.08474           0.07864          0.0869              0.07017   \n",
       "2          0.10960           0.15990          0.1974              0.12790   \n",
       "3          0.14250           0.28390          0.2414              0.10520   \n",
       "4          0.10030           0.13280          0.1980              0.10430   \n",
       "\n",
       "   mean symmetry  ...  worst radius  worst texture  worst perimeter  \\\n",
       "0         0.2419  ...         25.38          17.33           184.60   \n",
       "1         0.1812  ...         24.99          23.41           158.80   \n",
       "2         0.2069  ...         23.57          25.53           152.50   \n",
       "3         0.2597  ...         14.91          26.50            98.87   \n",
       "4         0.1809  ...         22.54          16.67           152.20   \n",
       "\n",
       "   worst area  worst smoothness  worst compactness  worst concavity  \\\n",
       "0      2019.0            0.1622             0.6656           0.7119   \n",
       "1      1956.0            0.1238             0.1866           0.2416   \n",
       "2      1709.0            0.1444             0.4245           0.4504   \n",
       "3       567.7            0.2098             0.8663           0.6869   \n",
       "4      1575.0            0.1374             0.2050           0.4000   \n",
       "\n",
       "   worst concave points  worst symmetry  worst fractal dimension  \n",
       "0                0.2654          0.4601                  0.11890  \n",
       "1                0.1860          0.2750                  0.08902  \n",
       "2                0.2430          0.3613                  0.08758  \n",
       "3                0.2575          0.6638                  0.17300  \n",
       "4                0.1625          0.2364                  0.07678  \n",
       "\n",
       "[5 rows x 31 columns]"
      ]
     },
     "execution_count": 129,
     "metadata": {},
     "output_type": "execute_result"
    }
   ],
   "source": []
  },
  {
   "cell_type": "code",
   "execution_count": 132,
   "id": "a79ef391-fe18-4989-bfa1-0771cf63d750",
   "metadata": {
    "tags": []
   },
   "outputs": [
    {
     "data": {
      "text/plain": [
       "array([0.98204467, 0.99822116])"
      ]
     },
     "execution_count": 132,
     "metadata": {},
     "output_type": "execute_result"
    }
   ],
   "source": [
    "# 11. Use breast cancer data. Use PCA to reduce the dimenionality of the data. \n",
    "# What's the cumulative explained variance for 2 principal components? \n",
    "# Use random_state = 101. Round to nearest 3 decimals. \n",
    "\n",
    "from sklearn.decomposition import PCA\n",
    "\n",
    "X = data.iloc[:,1:] # all rows, columns 1 and onwards\n",
    "y = data.iloc[:,0] # all rows, column 0\n",
    "\n",
    "# define and fit PCA, set n_components (e.g. 10)\n",
    "pca = PCA(n_components = 2, random_state = 101).fit(X) \n",
    "\n",
    "# pca.explained_variance_ratio_ gives var explained by each PC\n",
    "# use np.sum() to add it up to get cumulative var explained\n",
    "np.sum(pca.explained_variance_ratio_)\n",
    "\n",
    "\n"
   ]
  },
  {
   "cell_type": "code",
   "execution_count": 135,
   "id": "a2f3cb52-b3b1-4c37-bedd-8f9cd3d70507",
   "metadata": {
    "tags": []
   },
   "outputs": [
    {
     "data": {
      "image/png": "[encoded data removed]",
      "text/plain": [
       "<Figure size 640x480 with 1 Axes>"
      ]
     },
     "metadata": {},
     "output_type": "display_data"
    }
   ],
   "source": [
    "# 12. Use breast cancer data. Plot the cumulative explained variance as number of principal components increases.\n",
    "# Use random_state = 101. Upload the figure.\n",
    "\n",
    "X = data.iloc[:,1:] # all rows, columns 1 and onwards\n",
    "y = data.iloc[:,0] # all rows, column 0\n",
    "\n",
    "# Perform PCA with various numbers of components\n",
    "pca = PCA(random_state = 101).fit(X) \n",
    "components = list(range(1, X.shape[1]+1)) # get a list of # of components\n",
    "cumulative_var = np.cumsum(pca.explained_variance_ratio_) # use np.cumsum function to calculate cumulative var by # of components\n",
    "\n",
    "# Plot the cumulative explained variance\n",
    "plt.plot(components, cumulative_var)\n",
    "plt.xlabel('Number of Components')\n",
    "plt.ylabel('Cumulative Explained Variance');\n",
    "\n",
    "plt.savefig('cumulative_explained_variance.png')"
   ]
  },
  {
   "cell_type": "code",
   "execution_count": 136,
   "id": "7e7d8a4b-94ad-4f52-b5fd-7c138bccfdcf",
   "metadata": {
    "tags": []
   },
   "outputs": [
    {
     "data": {
      "text/plain": [
       "-293.9"
      ]
     },
     "execution_count": 136,
     "metadata": {},
     "output_type": "execute_result"
    }
   ],
   "source": [
    "# 13. Use breast cancer data. Run a PCA with 2 principal components. \n",
    "# Use random_state = 101. Calculate values of new variables based on principal components.\n",
    "# What's the value of component 2 (named '1') for the first data point? Round to nearest 1 decimal.\n",
    "\n",
    "X = data.iloc[:,1:] # all rows, columns 1 and onwards\n",
    "y = data.iloc[:,0] # all rows, column 0\n",
    "\n",
    "pca = PCA(n_components=2, random_state=101)\n",
    "X_pca = pca.fit_transform(X)\n",
    "\n",
    "# Calculate the value of component 2 for the first data point\n",
    "component_2_first_data_point = X_pca[0][1]\n",
    "\n",
    "# Round to the nearest 1 decimal\n",
    "rounded_component_2 = round(component_2_first_data_point, 1)\n",
    "\n",
    "rounded_component_2"
   ]
  },
  {
   "cell_type": "code",
   "execution_count": 138,
   "id": "0934546f-cdf4-4461-be89-521bdc5d1d50",
   "metadata": {
    "tags": []
   },
   "outputs": [
    {
     "data": {
      "text/html": [
       "<div>\n",
       "<style scoped>\n",
       "    .dataframe tbody tr th:only-of-type {\n",
       "        vertical-align: middle;\n",
       "    }\n",
       "\n",
       "    .dataframe tbody tr th {\n",
       "        vertical-align: top;\n",
       "    }\n",
       "\n",
       "    .dataframe thead th {\n",
       "        text-align: right;\n",
       "    }\n",
       "</style>\n",
       "<table border=\"1\" class=\"dataframe\">\n",
       "  <thead>\n",
       "    <tr style=\"text-align: right;\">\n",
       "      <th></th>\n",
       "      <th>diagnosis</th>\n",
       "      <th>0</th>\n",
       "      <th>1</th>\n",
       "    </tr>\n",
       "  </thead>\n",
       "  <tbody>\n",
       "    <tr>\n",
       "      <th>0</th>\n",
       "      <td>0</td>\n",
       "      <td>1160.142574</td>\n",
       "      <td>-293.917544</td>\n",
       "    </tr>\n",
       "    <tr>\n",
       "      <th>1</th>\n",
       "      <td>0</td>\n",
       "      <td>1269.122443</td>\n",
       "      <td>15.630182</td>\n",
       "    </tr>\n",
       "    <tr>\n",
       "      <th>2</th>\n",
       "      <td>0</td>\n",
       "      <td>995.793889</td>\n",
       "      <td>39.156743</td>\n",
       "    </tr>\n",
       "    <tr>\n",
       "      <th>3</th>\n",
       "      <td>0</td>\n",
       "      <td>-407.180803</td>\n",
       "      <td>-67.380320</td>\n",
       "    </tr>\n",
       "    <tr>\n",
       "      <th>4</th>\n",
       "      <td>0</td>\n",
       "      <td>930.341180</td>\n",
       "      <td>189.340742</td>\n",
       "    </tr>\n",
       "  </tbody>\n",
       "</table>\n",
       "</div>"
      ],
      "text/plain": [
       "   diagnosis            0           1\n",
       "0          0  1160.142574 -293.917544\n",
       "1          0  1269.122443   15.630182\n",
       "2          0   995.793889   39.156743\n",
       "3          0  -407.180803  -67.380320\n",
       "4          0   930.341180  189.340742"
      ]
     },
     "execution_count": 138,
     "metadata": {},
     "output_type": "execute_result"
    }
   ],
   "source": [
    "\n",
    "X = data.iloc[:,1:] # all rows, columns 1 and onwards\n",
    "y = data.iloc[:,0] # all rows, column 0\n",
    "\n",
    "pca = PCA(n_components=2, random_state=101)\n",
    "X_pca = pca.fit_transform(X)\n",
    "projected_variables = pd.DataFrame(X_pca)\n",
    "data2 = pd.concat([labels, projected_variables], axis=1)\n",
    "data2.head()"
   ]
  },
  {
   "cell_type": "code",
   "execution_count": 139,
   "id": "3155244b-ed37-4182-9d73-85048eced35d",
   "metadata": {
    "tags": []
   },
   "outputs": [],
   "source": [
    "# 14. Use breast cancer data. Use the results from Q13 (values of 2 principal components) to run a logistic regression to predict the target variable (diagnosis). \n",
    "# Use test size of 30% and random_state = 101 to split the data.\n",
    "# For the logistic regression, use solver = 'lbfgs', multi_class = 'multinomial', max_iter = 5000. \n",
    "# What's the accuracy of logistic regression on test data? Round to nearest 2 decimals. \n",
    "\n",
    "import numpy as np\n",
    "from sklearn.datasets import load_breast_cancer\n",
    "from sklearn.decomposition import PCA\n",
    "from sklearn.model_selection import train_test_split\n",
    "from sklearn.linear_model import LogisticRegression\n",
    "from sklearn.metrics import accuracy_score"
   ]
  },
  {
   "cell_type": "code",
   "execution_count": 141,
   "id": "534b3dd0-809f-425b-8f82-81d0586eb055",
   "metadata": {
    "tags": []
   },
   "outputs": [
    {
     "data": {
      "text/plain": [
       "0.9181286549707602"
      ]
     },
     "execution_count": 141,
     "metadata": {},
     "output_type": "execute_result"
    }
   ],
   "source": [
    "X = data.iloc[:,1:] # all rows, columns 1 and onwards\n",
    "y = data.iloc[:,0] # all rows, column 0\n",
    "\n",
    "# Perform PCA with 2 components\n",
    "pca = PCA(n_components=2, random_state=101)\n",
    "X_pca = pca.fit_transform(X)\n",
    "\n",
    "# Split the data into training and testing sets\n",
    "X_train, X_test, y_train, y_test = train_test_split(X_pca, y, test_size=0.30, random_state=101)\n",
    "\n",
    "# Create and fit a logistic regression model\n",
    "model = LogisticRegression(solver='lbfgs', multi_class= 'multinomial', max_iter=5000)\n",
    "model.fit(X_train, y_train)\n",
    "\n",
    "# Make predictions on the test data\n",
    "y_pred = model.predict(X_test)\n",
    "\n",
    "# Calculate the accuracy of the logistic regression model on the test data\n",
    "accuracy = accuracy_score(y_test, y_pred)\n",
    "\n",
    "accuracy\n"
   ]
  },
  {
   "cell_type": "code",
   "execution_count": 151,
   "id": "eed977ed-77cf-4563-a19e-e756d3fb4e41",
   "metadata": {
    "tags": []
   },
   "outputs": [],
   "source": [
    "# 15. Use breast cancer data. Run an ICA for 1 to 30 components.\n",
    "# Use max_iter = 1000, random_state = 101. Create a figure of kurtosis as the number of components increases.\n",
    "# Upload the figure. \n",
    "\n",
    "import pandas as pd \n",
    "import numpy as np\n",
    "import matplotlib.pyplot as plt\n",
    "import seaborn as sns\n",
    "from scipy.stats import norm, kurtosis # to install scipy, search 'scipy anaconda'\n",
    "from sklearn.decomposition import FastICA\n",
    "from sklearn.linear_model import LogisticRegression\n",
    "from sklearn.model_selection import train_test_split\n",
    "from sklearn.metrics import *\n",
    "%matplotlib inline\n"
   ]
  },
  {
   "cell_type": "code",
   "execution_count": 153,
   "id": "13774e4b-e708-479e-817b-f024d9215d2b",
   "metadata": {
    "tags": []
   },
   "outputs": [
    {
     "name": "stderr",
     "output_type": "stream",
     "text": [
      "C:\\Users\\elvin\\anaconda3\\lib\\site-packages\\sklearn\\decomposition\\_fastica.py:542: FutureWarning: Starting in v1.3, whiten='unit-variance' will be used by default.\n",
      "  warnings.warn(\n",
      "C:\\Users\\elvin\\anaconda3\\lib\\site-packages\\sklearn\\decomposition\\_fastica.py:542: FutureWarning: Starting in v1.3, whiten='unit-variance' will be used by default.\n",
      "  warnings.warn(\n",
      "C:\\Users\\elvin\\anaconda3\\lib\\site-packages\\sklearn\\decomposition\\_fastica.py:542: FutureWarning: Starting in v1.3, whiten='unit-variance' will be used by default.\n",
      "  warnings.warn(\n",
      "C:\\Users\\elvin\\anaconda3\\lib\\site-packages\\sklearn\\decomposition\\_fastica.py:542: FutureWarning: Starting in v1.3, whiten='unit-variance' will be used by default.\n",
      "  warnings.warn(\n",
      "C:\\Users\\elvin\\anaconda3\\lib\\site-packages\\sklearn\\decomposition\\_fastica.py:542: FutureWarning: Starting in v1.3, whiten='unit-variance' will be used by default.\n",
      "  warnings.warn(\n",
      "C:\\Users\\elvin\\anaconda3\\lib\\site-packages\\sklearn\\decomposition\\_fastica.py:542: FutureWarning: Starting in v1.3, whiten='unit-variance' will be used by default.\n",
      "  warnings.warn(\n",
      "C:\\Users\\elvin\\anaconda3\\lib\\site-packages\\sklearn\\decomposition\\_fastica.py:542: FutureWarning: Starting in v1.3, whiten='unit-variance' will be used by default.\n",
      "  warnings.warn(\n",
      "C:\\Users\\elvin\\anaconda3\\lib\\site-packages\\sklearn\\decomposition\\_fastica.py:542: FutureWarning: Starting in v1.3, whiten='unit-variance' will be used by default.\n",
      "  warnings.warn(\n"
     ]
    },
    {
     "name": "stdout",
     "output_type": "stream",
     "text": [
      "components: 1 , kurtosis: 3.844110178211147\n",
      "components: 2 , kurtosis: 13.269620524359189\n",
      "components: 3 , kurtosis: 51.08939483672385\n",
      "components: 4 , kurtosis: 41.8857560103525\n",
      "components: 5 , kurtosis: 34.585731383007065\n",
      "components: 6 , kurtosis: 33.24713041617357\n",
      "components: 7 , kurtosis: 30.470729535802377\n",
      "components: 8 , kurtosis: 33.29571865403263\n",
      "components: 9 , kurtosis: 29.835465954636884\n",
      "components: 10 , kurtosis: 28.456663486928043\n",
      "components: 11 , kurtosis: 27.093880427800762\n"
     ]
    },
    {
     "name": "stderr",
     "output_type": "stream",
     "text": [
      "C:\\Users\\elvin\\anaconda3\\lib\\site-packages\\sklearn\\decomposition\\_fastica.py:542: FutureWarning: Starting in v1.3, whiten='unit-variance' will be used by default.\n",
      "  warnings.warn(\n",
      "C:\\Users\\elvin\\anaconda3\\lib\\site-packages\\sklearn\\decomposition\\_fastica.py:542: FutureWarning: Starting in v1.3, whiten='unit-variance' will be used by default.\n",
      "  warnings.warn(\n",
      "C:\\Users\\elvin\\anaconda3\\lib\\site-packages\\sklearn\\decomposition\\_fastica.py:542: FutureWarning: Starting in v1.3, whiten='unit-variance' will be used by default.\n",
      "  warnings.warn(\n",
      "C:\\Users\\elvin\\anaconda3\\lib\\site-packages\\sklearn\\decomposition\\_fastica.py:542: FutureWarning: Starting in v1.3, whiten='unit-variance' will be used by default.\n",
      "  warnings.warn(\n"
     ]
    },
    {
     "name": "stdout",
     "output_type": "stream",
     "text": [
      "components: 12 , kurtosis: 28.82458156621142\n",
      "components: 13 , kurtosis: 28.62211414675435\n",
      "components: 14 , kurtosis: 26.811717012189856\n"
     ]
    },
    {
     "name": "stderr",
     "output_type": "stream",
     "text": [
      "C:\\Users\\elvin\\anaconda3\\lib\\site-packages\\sklearn\\decomposition\\_fastica.py:542: FutureWarning: Starting in v1.3, whiten='unit-variance' will be used by default.\n",
      "  warnings.warn(\n",
      "C:\\Users\\elvin\\anaconda3\\lib\\site-packages\\sklearn\\decomposition\\_fastica.py:542: FutureWarning: Starting in v1.3, whiten='unit-variance' will be used by default.\n",
      "  warnings.warn(\n",
      "C:\\Users\\elvin\\anaconda3\\lib\\site-packages\\sklearn\\decomposition\\_fastica.py:542: FutureWarning: Starting in v1.3, whiten='unit-variance' will be used by default.\n",
      "  warnings.warn(\n"
     ]
    },
    {
     "name": "stdout",
     "output_type": "stream",
     "text": [
      "components: 15 , kurtosis: 29.8464636744438\n",
      "components: 16 , kurtosis: 27.8864773431285\n",
      "components: 17 , kurtosis: 30.60856163358745\n"
     ]
    },
    {
     "name": "stderr",
     "output_type": "stream",
     "text": [
      "C:\\Users\\elvin\\anaconda3\\lib\\site-packages\\sklearn\\decomposition\\_fastica.py:542: FutureWarning: Starting in v1.3, whiten='unit-variance' will be used by default.\n",
      "  warnings.warn(\n",
      "C:\\Users\\elvin\\anaconda3\\lib\\site-packages\\sklearn\\decomposition\\_fastica.py:542: FutureWarning: Starting in v1.3, whiten='unit-variance' will be used by default.\n",
      "  warnings.warn(\n",
      "C:\\Users\\elvin\\anaconda3\\lib\\site-packages\\sklearn\\decomposition\\_fastica.py:542: FutureWarning: Starting in v1.3, whiten='unit-variance' will be used by default.\n",
      "  warnings.warn(\n"
     ]
    },
    {
     "name": "stdout",
     "output_type": "stream",
     "text": [
      "components: 18 , kurtosis: 29.120689140255276\n",
      "components: 19 , kurtosis: 26.937226629685018\n"
     ]
    },
    {
     "name": "stderr",
     "output_type": "stream",
     "text": [
      "C:\\Users\\elvin\\anaconda3\\lib\\site-packages\\sklearn\\decomposition\\_fastica.py:542: FutureWarning: Starting in v1.3, whiten='unit-variance' will be used by default.\n",
      "  warnings.warn(\n",
      "C:\\Users\\elvin\\anaconda3\\lib\\site-packages\\sklearn\\decomposition\\_fastica.py:542: FutureWarning: Starting in v1.3, whiten='unit-variance' will be used by default.\n",
      "  warnings.warn(\n"
     ]
    },
    {
     "name": "stdout",
     "output_type": "stream",
     "text": [
      "components: 20 , kurtosis: 26.797922568654894\n",
      "components: 21 , kurtosis: 27.076122339225805\n"
     ]
    },
    {
     "name": "stderr",
     "output_type": "stream",
     "text": [
      "C:\\Users\\elvin\\anaconda3\\lib\\site-packages\\sklearn\\decomposition\\_fastica.py:542: FutureWarning: Starting in v1.3, whiten='unit-variance' will be used by default.\n",
      "  warnings.warn(\n",
      "C:\\Users\\elvin\\anaconda3\\lib\\site-packages\\sklearn\\decomposition\\_fastica.py:542: FutureWarning: Starting in v1.3, whiten='unit-variance' will be used by default.\n",
      "  warnings.warn(\n"
     ]
    },
    {
     "name": "stdout",
     "output_type": "stream",
     "text": [
      "components: 22 , kurtosis: 27.523238090917086\n"
     ]
    },
    {
     "name": "stderr",
     "output_type": "stream",
     "text": [
      "C:\\Users\\elvin\\anaconda3\\lib\\site-packages\\sklearn\\decomposition\\_fastica.py:542: FutureWarning: Starting in v1.3, whiten='unit-variance' will be used by default.\n",
      "  warnings.warn(\n"
     ]
    },
    {
     "name": "stdout",
     "output_type": "stream",
     "text": [
      "components: 23 , kurtosis: 31.100380154249905\n",
      "components: 24 , kurtosis: 30.86917400075391\n"
     ]
    },
    {
     "name": "stderr",
     "output_type": "stream",
     "text": [
      "C:\\Users\\elvin\\anaconda3\\lib\\site-packages\\sklearn\\decomposition\\_fastica.py:542: FutureWarning: Starting in v1.3, whiten='unit-variance' will be used by default.\n",
      "  warnings.warn(\n",
      "C:\\Users\\elvin\\anaconda3\\lib\\site-packages\\sklearn\\decomposition\\_fastica.py:542: FutureWarning: Starting in v1.3, whiten='unit-variance' will be used by default.\n",
      "  warnings.warn(\n",
      "C:\\Users\\elvin\\anaconda3\\lib\\site-packages\\sklearn\\decomposition\\_fastica.py:123: ConvergenceWarning: FastICA did not converge. Consider increasing tolerance or the maximum number of iterations.\n",
      "  warnings.warn(\n",
      "C:\\Users\\elvin\\anaconda3\\lib\\site-packages\\sklearn\\decomposition\\_fastica.py:542: FutureWarning: Starting in v1.3, whiten='unit-variance' will be used by default.\n",
      "  warnings.warn(\n",
      "C:\\Users\\elvin\\anaconda3\\lib\\site-packages\\sklearn\\decomposition\\_fastica.py:542: FutureWarning: Starting in v1.3, whiten='unit-variance' will be used by default.\n",
      "  warnings.warn(\n"
     ]
    },
    {
     "name": "stdout",
     "output_type": "stream",
     "text": [
      "components: 25 , kurtosis: 30.038929254316628\n",
      "components: 26 , kurtosis: 29.698433481771307\n",
      "components: 27 , kurtosis: 29.69318750298656\n",
      "components: 28 , kurtosis: 29.261938659677778\n"
     ]
    },
    {
     "name": "stderr",
     "output_type": "stream",
     "text": [
      "C:\\Users\\elvin\\anaconda3\\lib\\site-packages\\sklearn\\decomposition\\_fastica.py:542: FutureWarning: Starting in v1.3, whiten='unit-variance' will be used by default.\n",
      "  warnings.warn(\n",
      "C:\\Users\\elvin\\anaconda3\\lib\\site-packages\\sklearn\\decomposition\\_fastica.py:542: FutureWarning: Starting in v1.3, whiten='unit-variance' will be used by default.\n",
      "  warnings.warn(\n"
     ]
    },
    {
     "name": "stdout",
     "output_type": "stream",
     "text": [
      "components: 29 , kurtosis: 30.414555933934142\n"
     ]
    },
    {
     "name": "stderr",
     "output_type": "stream",
     "text": [
      "C:\\Users\\elvin\\anaconda3\\lib\\site-packages\\sklearn\\decomposition\\_fastica.py:542: FutureWarning: Starting in v1.3, whiten='unit-variance' will be used by default.\n",
      "  warnings.warn(\n"
     ]
    },
    {
     "name": "stdout",
     "output_type": "stream",
     "text": [
      "components: 30 , kurtosis: 33.96527433001647\n"
     ]
    },
    {
     "data": {
      "text/plain": [
       "Text(0.5, 1.0, 'Kurtosis vs. # of Independent Components')"
      ]
     },
     "execution_count": 153,
     "metadata": {},
     "output_type": "execute_result"
    },
    {
     "data": {
      "image/png": "[encoded data removed]",
      "text/plain": [
       "<Figure size 640x480 with 1 Axes>"
      ]
     },
     "metadata": {},
     "output_type": "display_data"
    }
   ],
   "source": [
    "\n",
    "import pandas as pd \n",
    "import numpy as np\n",
    "import matplotlib.pyplot as plt\n",
    "import seaborn as sns\n",
    "from scipy.stats import norm, kurtosis # to install scipy, search 'scipy anaconda'\n",
    "from sklearn.decomposition import FastICA\n",
    "from sklearn.linear_model import LogisticRegression\n",
    "from sklearn.model_selection import train_test_split\n",
    "from sklearn.metrics import *\n",
    "%matplotlib inline\n",
    "\n",
    "\n",
    "# Load the breast cancer dataset\n",
    "X = data.iloc[:,1:] # all rows, columns 1 and onwards\n",
    "y = data.iloc[:,0] # all rows, column 0\n",
    "# Define the range of components (1 to 30)\n",
    "n_components_range = range(1, 31)\n",
    "kurtosis = []\n",
    "\n",
    "# Perform ICA for different numbers of components\n",
    "for i in n_components_range:\n",
    "    ica = FastICA(n_components= i, max_iter=1000, random_state=101)\n",
    "    ica.fit(X)\n",
    "    \n",
    "    # transform x-vars using ind components\n",
    "    projected_variables = ica.transform(X)\n",
    "    projected_variables = pd.DataFrame(projected_variables)\n",
    "\n",
    "    # calc. mean absolute value of kurtosis for the components\n",
    "    k = projected_variables.kurt(axis = 0).abs().mean()\n",
    "    kurtosis.append(k)\n",
    "    \n",
    "    # using kurtosis is good if your goal is to find # of independent components rather than making predictions\n",
    "    print('components:', i, ', kurtosis:', k)\n",
    "    \n",
    "plt.plot(components, kurtosis)\n",
    "plt.ylabel('Kurtosis')\n",
    "plt.xlabel('# of Components')\n",
    "plt.title('Kurtosis vs. # of Independent Components')"
   ]
  },
  {
   "cell_type": "code",
   "execution_count": 155,
   "id": "3ba772e8-34a4-4af3-b724-f09678814822",
   "metadata": {
    "tags": []
   },
   "outputs": [
    {
     "name": "stderr",
     "output_type": "stream",
     "text": [
      "C:\\Users\\elvin\\anaconda3\\lib\\site-packages\\sklearn\\decomposition\\_fastica.py:542: FutureWarning: Starting in v1.3, whiten='unit-variance' will be used by default.\n",
      "  warnings.warn(\n",
      "C:\\Users\\elvin\\anaconda3\\lib\\site-packages\\sklearn\\decomposition\\_fastica.py:542: FutureWarning: Starting in v1.3, whiten='unit-variance' will be used by default.\n",
      "  warnings.warn(\n",
      "C:\\Users\\elvin\\anaconda3\\lib\\site-packages\\sklearn\\decomposition\\_fastica.py:542: FutureWarning: Starting in v1.3, whiten='unit-variance' will be used by default.\n",
      "  warnings.warn(\n",
      "C:\\Users\\elvin\\anaconda3\\lib\\site-packages\\sklearn\\decomposition\\_fastica.py:542: FutureWarning: Starting in v1.3, whiten='unit-variance' will be used by default.\n",
      "  warnings.warn(\n",
      "C:\\Users\\elvin\\anaconda3\\lib\\site-packages\\sklearn\\decomposition\\_fastica.py:542: FutureWarning: Starting in v1.3, whiten='unit-variance' will be used by default.\n",
      "  warnings.warn(\n",
      "C:\\Users\\elvin\\anaconda3\\lib\\site-packages\\sklearn\\decomposition\\_fastica.py:542: FutureWarning: Starting in v1.3, whiten='unit-variance' will be used by default.\n",
      "  warnings.warn(\n",
      "C:\\Users\\elvin\\anaconda3\\lib\\site-packages\\sklearn\\decomposition\\_fastica.py:542: FutureWarning: Starting in v1.3, whiten='unit-variance' will be used by default.\n",
      "  warnings.warn(\n",
      "C:\\Users\\elvin\\anaconda3\\lib\\site-packages\\sklearn\\decomposition\\_fastica.py:542: FutureWarning: Starting in v1.3, whiten='unit-variance' will be used by default.\n",
      "  warnings.warn(\n",
      "C:\\Users\\elvin\\anaconda3\\lib\\site-packages\\sklearn\\decomposition\\_fastica.py:542: FutureWarning: Starting in v1.3, whiten='unit-variance' will be used by default.\n",
      "  warnings.warn(\n",
      "C:\\Users\\elvin\\anaconda3\\lib\\site-packages\\sklearn\\decomposition\\_fastica.py:542: FutureWarning: Starting in v1.3, whiten='unit-variance' will be used by default.\n",
      "  warnings.warn(\n",
      "C:\\Users\\elvin\\anaconda3\\lib\\site-packages\\sklearn\\decomposition\\_fastica.py:542: FutureWarning: Starting in v1.3, whiten='unit-variance' will be used by default.\n",
      "  warnings.warn(\n",
      "C:\\Users\\elvin\\anaconda3\\lib\\site-packages\\sklearn\\decomposition\\_fastica.py:542: FutureWarning: Starting in v1.3, whiten='unit-variance' will be used by default.\n",
      "  warnings.warn(\n",
      "C:\\Users\\elvin\\anaconda3\\lib\\site-packages\\sklearn\\decomposition\\_fastica.py:542: FutureWarning: Starting in v1.3, whiten='unit-variance' will be used by default.\n",
      "  warnings.warn(\n",
      "C:\\Users\\elvin\\anaconda3\\lib\\site-packages\\sklearn\\decomposition\\_fastica.py:542: FutureWarning: Starting in v1.3, whiten='unit-variance' will be used by default.\n",
      "  warnings.warn(\n",
      "C:\\Users\\elvin\\anaconda3\\lib\\site-packages\\sklearn\\decomposition\\_fastica.py:542: FutureWarning: Starting in v1.3, whiten='unit-variance' will be used by default.\n",
      "  warnings.warn(\n",
      "C:\\Users\\elvin\\anaconda3\\lib\\site-packages\\sklearn\\decomposition\\_fastica.py:542: FutureWarning: Starting in v1.3, whiten='unit-variance' will be used by default.\n",
      "  warnings.warn(\n",
      "C:\\Users\\elvin\\anaconda3\\lib\\site-packages\\sklearn\\decomposition\\_fastica.py:542: FutureWarning: Starting in v1.3, whiten='unit-variance' will be used by default.\n",
      "  warnings.warn(\n",
      "C:\\Users\\elvin\\anaconda3\\lib\\site-packages\\sklearn\\decomposition\\_fastica.py:542: FutureWarning: Starting in v1.3, whiten='unit-variance' will be used by default.\n",
      "  warnings.warn(\n",
      "C:\\Users\\elvin\\anaconda3\\lib\\site-packages\\sklearn\\decomposition\\_fastica.py:542: FutureWarning: Starting in v1.3, whiten='unit-variance' will be used by default.\n",
      "  warnings.warn(\n",
      "C:\\Users\\elvin\\anaconda3\\lib\\site-packages\\sklearn\\decomposition\\_fastica.py:542: FutureWarning: Starting in v1.3, whiten='unit-variance' will be used by default.\n",
      "  warnings.warn(\n",
      "C:\\Users\\elvin\\anaconda3\\lib\\site-packages\\sklearn\\decomposition\\_fastica.py:542: FutureWarning: Starting in v1.3, whiten='unit-variance' will be used by default.\n",
      "  warnings.warn(\n",
      "C:\\Users\\elvin\\anaconda3\\lib\\site-packages\\sklearn\\decomposition\\_fastica.py:542: FutureWarning: Starting in v1.3, whiten='unit-variance' will be used by default.\n",
      "  warnings.warn(\n",
      "C:\\Users\\elvin\\anaconda3\\lib\\site-packages\\sklearn\\decomposition\\_fastica.py:542: FutureWarning: Starting in v1.3, whiten='unit-variance' will be used by default.\n",
      "  warnings.warn(\n",
      "C:\\Users\\elvin\\anaconda3\\lib\\site-packages\\sklearn\\decomposition\\_fastica.py:542: FutureWarning: Starting in v1.3, whiten='unit-variance' will be used by default.\n",
      "  warnings.warn(\n",
      "C:\\Users\\elvin\\anaconda3\\lib\\site-packages\\sklearn\\decomposition\\_fastica.py:542: FutureWarning: Starting in v1.3, whiten='unit-variance' will be used by default.\n",
      "  warnings.warn(\n",
      "C:\\Users\\elvin\\anaconda3\\lib\\site-packages\\sklearn\\decomposition\\_fastica.py:123: ConvergenceWarning: FastICA did not converge. Consider increasing tolerance or the maximum number of iterations.\n",
      "  warnings.warn(\n",
      "C:\\Users\\elvin\\anaconda3\\lib\\site-packages\\sklearn\\decomposition\\_fastica.py:542: FutureWarning: Starting in v1.3, whiten='unit-variance' will be used by default.\n",
      "  warnings.warn(\n",
      "C:\\Users\\elvin\\anaconda3\\lib\\site-packages\\sklearn\\decomposition\\_fastica.py:542: FutureWarning: Starting in v1.3, whiten='unit-variance' will be used by default.\n",
      "  warnings.warn(\n",
      "C:\\Users\\elvin\\anaconda3\\lib\\site-packages\\sklearn\\decomposition\\_fastica.py:542: FutureWarning: Starting in v1.3, whiten='unit-variance' will be used by default.\n",
      "  warnings.warn(\n",
      "C:\\Users\\elvin\\anaconda3\\lib\\site-packages\\sklearn\\decomposition\\_fastica.py:542: FutureWarning: Starting in v1.3, whiten='unit-variance' will be used by default.\n",
      "  warnings.warn(\n",
      "C:\\Users\\elvin\\anaconda3\\lib\\site-packages\\sklearn\\decomposition\\_fastica.py:542: FutureWarning: Starting in v1.3, whiten='unit-variance' will be used by default.\n",
      "  warnings.warn(\n"
     ]
    },
    {
     "data": {
      "image/png": "[encoded data removed]",
      "text/plain": [
       "<Figure size 1000x600 with 1 Axes>"
      ]
     },
     "metadata": {},
     "output_type": "display_data"
    }
   ],
   "source": [
    "import numpy as np\n",
    "import matplotlib.pyplot as plt\n",
    "from sklearn.datasets import load_breast_cancer\n",
    "from sklearn.decomposition import FastICA\n",
    "from scipy.stats import kurtosis\n",
    "\n",
    "# Load the breast cancer dataset\n",
    "data = load_breast_cancer()\n",
    "X = data.data\n",
    "\n",
    "# Define the range of components (1 to 30)\n",
    "n_components_range = range(1, 31)\n",
    "kurtosis_values = []\n",
    "\n",
    "# Perform ICA for different numbers of components\n",
    "for n_components in n_components_range:\n",
    "    ica = FastICA(n_components=n_components, max_iter=1000, random_state=101)\n",
    "    X_ica = ica.fit_transform(X)\n",
    "    kurtosis_values.append(np.mean(kurtosis(X_ica)))\n",
    "\n",
    "# Create a figure of kurtosis as the number of components increases\n",
    "plt.figure(figsize=(10, 6))\n",
    "plt.plot(n_components_range, kurtosis_values, marker='o', linestyle='-', color='b')\n",
    "plt.xlabel('Number of Components')\n",
    "plt.ylabel('Kurtosis')\n",
    "plt.title('Kurtosis vs. Number of ICA Components')\n",
    "plt.grid(True)\n",
    "\n",
    "# Save the figure\n",
    "plt.savefig('kurtosis_vs_components.png')\n",
    "\n",
    "# Show the plot (optional)\n",
    "plt.show()\n"
   ]
  },
  {
   "cell_type": "code",
   "execution_count": 88,
   "id": "3fc6b745-0629-449d-abed-92849104a250",
   "metadata": {
    "tags": []
   },
   "outputs": [],
   "source": [
    "# 16. Use the results from Q15. How many components resulted in the highest kurtosis? "
   ]
  },
  {
   "cell_type": "code",
   "execution_count": 159,
   "id": "bdc1a2c8-2634-4307-aeac-05f6607ec29b",
   "metadata": {
    "tags": []
   },
   "outputs": [
    {
     "data": {
      "text/plain": [
       "3"
      ]
     },
     "execution_count": 159,
     "metadata": {},
     "output_type": "execute_result"
    }
   ],
   "source": [
    "# Find the index of the maximum kurtosis value\n",
    "max_kurtosis_index = kurtosis_values.index(max(kurtosis_values))\n",
    "\n",
    "# The number of components with the highest kurtosis\n",
    "components_with_highest_kurtosis = n_components_range[max_kurtosis_index]\n",
    "components_with_highest_kurtosis\n"
   ]
  },
  {
   "cell_type": "code",
   "execution_count": null,
   "id": "59727df8-245c-4a44-becb-17dcc701eeb2",
   "metadata": {},
   "outputs": [],
   "source": []
  }
 ],
 "metadata": {
  "kernelspec": {
   "display_name": "Python 3 (ipykernel)",
   "language": "python",
   "name": "python3"
  },
  "language_info": {
   "codemirror_mode": {
    "name": "ipython",
    "version": 3
   },
   "file_extension": ".py",
   "mimetype": "text/x-python",
   "name": "python",
   "nbconvert_exporter": "python",
   "pygments_lexer": "ipython3",
   "version": "3.10.9"
  }
 },
 "nbformat": 4,
 "nbformat_minor": 5
}
