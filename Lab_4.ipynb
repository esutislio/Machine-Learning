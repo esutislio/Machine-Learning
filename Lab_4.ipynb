{
 "cells": [
  {
   "cell_type": "code",
   "execution_count": 245,
   "id": "e6b6e747",
   "metadata": {},
   "outputs": [],
   "source": [
    "# import the packages needed \n",
    "import pandas as pd\n",
    "import numpy as np\n",
    "import seaborn as sns\n",
    "from sklearn.svm import SVC \n",
    "from sklearn.naive_bayes import GaussianNB\n",
    "from sklearn.model_selection import train_test_split\n",
    "from sklearn.metrics import *\n",
    "from sklearn.tree import DecisionTreeClassifier # libraries in sklearn \n",
    "from sklearn.ensemble import RandomForestClassifier # libraries in sklearn\n",
    "from sklearn.model_selection import train_test_split\n",
    "from sklearn.metrics import *\n",
    "from sklearn.feature_selection import mutual_info_classif\n",
    "import matplotlib.pyplot as plt\n",
    "%matplotlib inline\n",
    "\n",
    "store = pd.read_csv(\"Superstore.csv\")\n",
    "\n",
    "# define a function for calculating the metric to be used later \n",
    "def classification_metrics(Y_pred, Y_true):\n",
    "    acc = accuracy_score(Y_true, Y_pred)\n",
    "    precision = precision_score(Y_true, Y_pred)\n",
    "    recall = recall_score(Y_true, Y_pred)\n",
    "    f1score = f1_score(Y_true, Y_pred)\n",
    "    auc = roc_auc_score(Y_true, Y_pred)\n",
    "\n",
    "    return acc, precision, recall, f1score, auc\n",
    "\n",
    "# define a function for printing the metrics \n",
    "def display_metrics(classifierName,Y_pred,Y_true):\n",
    "    print (\"______________________________________________\")\n",
    "    print (\"Model: \"+classifierName)\n",
    "    acc, precision, recall, f1score, auc = classification_metrics(Y_pred,Y_true)\n",
    "    print (\"Accuracy: \"+str(acc))\n",
    "    print (\"Precision: \"+str(precision))\n",
    "    print (\"Recall: \"+str(recall))\n",
    "    print (\"F1-score: \"+str(f1score))\n",
    "    print (\"AUC: \"+str(auc))\n",
    "    print (\"______________________________________________\")\n",
    "    print (\"\")\n"
   ]
  },
  {
   "cell_type": "code",
   "execution_count": 6,
   "id": "3226f2ca",
   "metadata": {},
   "outputs": [
    {
     "data": {
      "text/html": [
       "<div>\n",
       "<style scoped>\n",
       "    .dataframe tbody tr th:only-of-type {\n",
       "        vertical-align: middle;\n",
       "    }\n",
       "\n",
       "    .dataframe tbody tr th {\n",
       "        vertical-align: top;\n",
       "    }\n",
       "\n",
       "    .dataframe thead th {\n",
       "        text-align: right;\n",
       "    }\n",
       "</style>\n",
       "<table border=\"1\" class=\"dataframe\">\n",
       "  <thead>\n",
       "    <tr style=\"text-align: right;\">\n",
       "      <th></th>\n",
       "      <th>Category</th>\n",
       "      <th>City</th>\n",
       "      <th>Container</th>\n",
       "      <th>Customer ID</th>\n",
       "      <th>Customer Name</th>\n",
       "      <th>Customer Segment</th>\n",
       "      <th>Department</th>\n",
       "      <th>Discount</th>\n",
       "      <th>Item ID</th>\n",
       "      <th>Item</th>\n",
       "      <th>...</th>\n",
       "      <th>Product Base Margin</th>\n",
       "      <th>Profit</th>\n",
       "      <th>Region</th>\n",
       "      <th>Row ID</th>\n",
       "      <th>Sales</th>\n",
       "      <th>Ship Date</th>\n",
       "      <th>Ship Mode</th>\n",
       "      <th>Shipping Cost</th>\n",
       "      <th>State</th>\n",
       "      <th>Unit Price</th>\n",
       "    </tr>\n",
       "  </thead>\n",
       "  <tbody>\n",
       "    <tr>\n",
       "      <th>0</th>\n",
       "      <td>Paper</td>\n",
       "      <td>Lombard</td>\n",
       "      <td>Small Box</td>\n",
       "      <td>3035</td>\n",
       "      <td>Mark Bailey</td>\n",
       "      <td>Home Office</td>\n",
       "      <td>Office Supplies</td>\n",
       "      <td>0.01</td>\n",
       "      <td>10074</td>\n",
       "      <td>Hammermill CopyPlus Copy Paper (20Lb. and 84 B...</td>\n",
       "      <td>...</td>\n",
       "      <td>0.36</td>\n",
       "      <td>-76</td>\n",
       "      <td>Central</td>\n",
       "      <td>11/18/1951</td>\n",
       "      <td>53</td>\n",
       "      <td>11/9/2018</td>\n",
       "      <td>Regular Air</td>\n",
       "      <td>5</td>\n",
       "      <td>Illinois</td>\n",
       "      <td>5</td>\n",
       "    </tr>\n",
       "    <tr>\n",
       "      <th>1</th>\n",
       "      <td>Paper</td>\n",
       "      <td>Lombard</td>\n",
       "      <td>Wrap Bag</td>\n",
       "      <td>3035</td>\n",
       "      <td>Mark Bailey</td>\n",
       "      <td>Home Office</td>\n",
       "      <td>Office Supplies</td>\n",
       "      <td>0.04</td>\n",
       "      <td>10079</td>\n",
       "      <td>Telephone Message Books with Fax/Mobile Sectio...</td>\n",
       "      <td>...</td>\n",
       "      <td>0.39</td>\n",
       "      <td>52</td>\n",
       "      <td>Central</td>\n",
       "      <td>11/19/1951</td>\n",
       "      <td>76</td>\n",
       "      <td>11/12/2016</td>\n",
       "      <td>Regular Air</td>\n",
       "      <td>1</td>\n",
       "      <td>Illinois</td>\n",
       "      <td>6</td>\n",
       "    </tr>\n",
       "    <tr>\n",
       "      <th>2</th>\n",
       "      <td>Pens &amp; Art Supplies</td>\n",
       "      <td>Southbury</td>\n",
       "      <td>Wrap Bag</td>\n",
       "      <td>3385</td>\n",
       "      <td>Daniel Richmond</td>\n",
       "      <td>Corporate</td>\n",
       "      <td>Office Supplies</td>\n",
       "      <td>0.04</td>\n",
       "      <td>11012</td>\n",
       "      <td>Premium Writing Pencils, Soft, #2 by Central A...</td>\n",
       "      <td>...</td>\n",
       "      <td>0.57</td>\n",
       "      <td>-22</td>\n",
       "      <td>East</td>\n",
       "      <td>3/1/1961</td>\n",
       "      <td>16</td>\n",
       "      <td>11/23/2017</td>\n",
       "      <td>Express Air</td>\n",
       "      <td>2</td>\n",
       "      <td>Connecticut</td>\n",
       "      <td>3</td>\n",
       "    </tr>\n",
       "    <tr>\n",
       "      <th>3</th>\n",
       "      <td>Binders and Binder Accessories</td>\n",
       "      <td>Coachella</td>\n",
       "      <td>Small Box</td>\n",
       "      <td>3133</td>\n",
       "      <td>Kristine Singleton</td>\n",
       "      <td>Corporate</td>\n",
       "      <td>Office Supplies</td>\n",
       "      <td>0.10</td>\n",
       "      <td>10646</td>\n",
       "      <td>Fellowes Black Plastic Comb Bindings</td>\n",
       "      <td>...</td>\n",
       "      <td>0.39</td>\n",
       "      <td>-350</td>\n",
       "      <td>West</td>\n",
       "      <td>6/27/1961</td>\n",
       "      <td>65</td>\n",
       "      <td>1/25/2018</td>\n",
       "      <td>Regular Air</td>\n",
       "      <td>8</td>\n",
       "      <td>California</td>\n",
       "      <td>6</td>\n",
       "    </tr>\n",
       "    <tr>\n",
       "      <th>4</th>\n",
       "      <td>Rubber Bands</td>\n",
       "      <td>Coachella</td>\n",
       "      <td>Wrap Bag</td>\n",
       "      <td>3133</td>\n",
       "      <td>Kristine Singleton</td>\n",
       "      <td>Corporate</td>\n",
       "      <td>Office Supplies</td>\n",
       "      <td>0.03</td>\n",
       "      <td>10138</td>\n",
       "      <td>Assorted Color Push Pins</td>\n",
       "      <td>...</td>\n",
       "      <td>0.52</td>\n",
       "      <td>4</td>\n",
       "      <td>West</td>\n",
       "      <td>6/28/1961</td>\n",
       "      <td>19</td>\n",
       "      <td>1/25/2018</td>\n",
       "      <td>Regular Air</td>\n",
       "      <td>1</td>\n",
       "      <td>California</td>\n",
       "      <td>2</td>\n",
       "    </tr>\n",
       "  </tbody>\n",
       "</table>\n",
       "<p>5 rows × 26 columns</p>\n",
       "</div>"
      ],
      "text/plain": [
       "                         Category       City  Container  Customer ID  \\\n",
       "0                           Paper    Lombard  Small Box         3035   \n",
       "1                           Paper    Lombard   Wrap Bag         3035   \n",
       "2             Pens & Art Supplies  Southbury   Wrap Bag         3385   \n",
       "3  Binders and Binder Accessories  Coachella  Small Box         3133   \n",
       "4                    Rubber Bands  Coachella   Wrap Bag         3133   \n",
       "\n",
       "        Customer Name Customer Segment       Department  Discount  Item ID  \\\n",
       "0         Mark Bailey      Home Office  Office Supplies      0.01    10074   \n",
       "1         Mark Bailey      Home Office  Office Supplies      0.04    10079   \n",
       "2     Daniel Richmond        Corporate  Office Supplies      0.04    11012   \n",
       "3  Kristine Singleton        Corporate  Office Supplies      0.10    10646   \n",
       "4  Kristine Singleton        Corporate  Office Supplies      0.03    10138   \n",
       "\n",
       "                                                Item  ...  \\\n",
       "0  Hammermill CopyPlus Copy Paper (20Lb. and 84 B...  ...   \n",
       "1  Telephone Message Books with Fax/Mobile Sectio...  ...   \n",
       "2  Premium Writing Pencils, Soft, #2 by Central A...  ...   \n",
       "3               Fellowes Black Plastic Comb Bindings  ...   \n",
       "4                           Assorted Color Push Pins  ...   \n",
       "\n",
       "   Product Base Margin Profit   Region      Row ID  Sales   Ship Date  \\\n",
       "0                 0.36    -76  Central  11/18/1951     53   11/9/2018   \n",
       "1                 0.39     52  Central  11/19/1951     76  11/12/2016   \n",
       "2                 0.57    -22     East    3/1/1961     16  11/23/2017   \n",
       "3                 0.39   -350     West   6/27/1961     65   1/25/2018   \n",
       "4                 0.52      4     West   6/28/1961     19   1/25/2018   \n",
       "\n",
       "     Ship Mode  Shipping Cost        State Unit Price  \n",
       "0  Regular Air              5     Illinois          5  \n",
       "1  Regular Air              1     Illinois          6  \n",
       "2  Express Air              2  Connecticut          3  \n",
       "3  Regular Air              8   California          6  \n",
       "4  Regular Air              1   California          2  \n",
       "\n",
       "[5 rows x 26 columns]"
      ]
     },
     "execution_count": 6,
     "metadata": {},
     "output_type": "execute_result"
    }
   ],
   "source": [
    "store.head()"
   ]
  },
  {
   "cell_type": "code",
   "execution_count": 145,
   "id": "16714202",
   "metadata": {},
   "outputs": [],
   "source": [
    "store_q1 = store[['Sales', 'Unit Price', 'Profit']]"
   ]
  },
  {
   "cell_type": "code",
   "execution_count": 146,
   "id": "440ff406",
   "metadata": {},
   "outputs": [],
   "source": [
    "store_profit10 = store_q1[store_q1['Profit'] > 10]"
   ]
  },
  {
   "cell_type": "code",
   "execution_count": 147,
   "id": "eec55f0d",
   "metadata": {},
   "outputs": [
    {
     "data": {
      "text/plain": [
       "20"
      ]
     },
     "execution_count": 147,
     "metadata": {},
     "output_type": "execute_result"
    }
   ],
   "source": [
    "store_profit10.values[250,1]"
   ]
  },
  {
   "cell_type": "code",
   "execution_count": 21,
   "id": "e090201f",
   "metadata": {},
   "outputs": [
    {
     "data": {
      "text/plain": [
       "27"
      ]
     },
     "execution_count": 21,
     "metadata": {},
     "output_type": "execute_result"
    }
   ],
   "source": [
    "store_profit10.loc[250, 'Sales']"
   ]
  },
  {
   "cell_type": "code",
   "execution_count": 23,
   "id": "f140b698",
   "metadata": {},
   "outputs": [
    {
     "data": {
      "text/html": [
       "<div>\n",
       "<style scoped>\n",
       "    .dataframe tbody tr th:only-of-type {\n",
       "        vertical-align: middle;\n",
       "    }\n",
       "\n",
       "    .dataframe tbody tr th {\n",
       "        vertical-align: top;\n",
       "    }\n",
       "\n",
       "    .dataframe thead th {\n",
       "        text-align: right;\n",
       "    }\n",
       "</style>\n",
       "<table border=\"1\" class=\"dataframe\">\n",
       "  <thead>\n",
       "    <tr style=\"text-align: right;\">\n",
       "      <th></th>\n",
       "      <th>index</th>\n",
       "      <th>Sales</th>\n",
       "      <th>Unit Price</th>\n",
       "      <th>Profit</th>\n",
       "    </tr>\n",
       "  </thead>\n",
       "  <tbody>\n",
       "    <tr>\n",
       "      <th>0</th>\n",
       "      <td>1</td>\n",
       "      <td>76</td>\n",
       "      <td>6</td>\n",
       "      <td>52</td>\n",
       "    </tr>\n",
       "    <tr>\n",
       "      <th>1</th>\n",
       "      <td>8</td>\n",
       "      <td>69</td>\n",
       "      <td>8</td>\n",
       "      <td>45</td>\n",
       "    </tr>\n",
       "    <tr>\n",
       "      <th>2</th>\n",
       "      <td>10</td>\n",
       "      <td>832</td>\n",
       "      <td>23</td>\n",
       "      <td>70</td>\n",
       "    </tr>\n",
       "    <tr>\n",
       "      <th>3</th>\n",
       "      <td>12</td>\n",
       "      <td>681</td>\n",
       "      <td>126</td>\n",
       "      <td>426</td>\n",
       "    </tr>\n",
       "    <tr>\n",
       "      <th>4</th>\n",
       "      <td>15</td>\n",
       "      <td>280</td>\n",
       "      <td>12</td>\n",
       "      <td>16</td>\n",
       "    </tr>\n",
       "    <tr>\n",
       "      <th>...</th>\n",
       "      <td>...</td>\n",
       "      <td>...</td>\n",
       "      <td>...</td>\n",
       "      <td>...</td>\n",
       "    </tr>\n",
       "    <tr>\n",
       "      <th>4298</th>\n",
       "      <td>9413</td>\n",
       "      <td>275</td>\n",
       "      <td>17</td>\n",
       "      <td>24</td>\n",
       "    </tr>\n",
       "    <tr>\n",
       "      <th>4299</th>\n",
       "      <td>9415</td>\n",
       "      <td>44</td>\n",
       "      <td>3</td>\n",
       "      <td>18</td>\n",
       "    </tr>\n",
       "    <tr>\n",
       "      <th>4300</th>\n",
       "      <td>9416</td>\n",
       "      <td>252</td>\n",
       "      <td>60</td>\n",
       "      <td>40</td>\n",
       "    </tr>\n",
       "    <tr>\n",
       "      <th>4301</th>\n",
       "      <td>9423</td>\n",
       "      <td>825</td>\n",
       "      <td>71</td>\n",
       "      <td>569</td>\n",
       "    </tr>\n",
       "    <tr>\n",
       "      <th>4302</th>\n",
       "      <td>9424</td>\n",
       "      <td>163</td>\n",
       "      <td>41</td>\n",
       "      <td>22</td>\n",
       "    </tr>\n",
       "  </tbody>\n",
       "</table>\n",
       "<p>4303 rows × 4 columns</p>\n",
       "</div>"
      ],
      "text/plain": [
       "      index  Sales  Unit Price  Profit\n",
       "0         1     76           6      52\n",
       "1         8     69           8      45\n",
       "2        10    832          23      70\n",
       "3        12    681         126     426\n",
       "4        15    280          12      16\n",
       "...     ...    ...         ...     ...\n",
       "4298   9413    275          17      24\n",
       "4299   9415     44           3      18\n",
       "4300   9416    252          60      40\n",
       "4301   9423    825          71     569\n",
       "4302   9424    163          41      22\n",
       "\n",
       "[4303 rows x 4 columns]"
      ]
     },
     "execution_count": 23,
     "metadata": {},
     "output_type": "execute_result"
    }
   ],
   "source": [
    "store_profit10.reset_index()"
   ]
  },
  {
   "cell_type": "code",
   "execution_count": 42,
   "id": "a8ab894b",
   "metadata": {},
   "outputs": [
    {
     "data": {
      "text/plain": [
       "Sales         27\n",
       "Unit Price     9\n",
       "Profit        19\n",
       "Name: 250, dtype: int64"
      ]
     },
     "execution_count": 42,
     "metadata": {},
     "output_type": "execute_result"
    }
   ],
   "source": [
    "store_profit10.loc[250, :]"
   ]
  },
  {
   "cell_type": "code",
   "execution_count": 34,
   "id": "dcc07cb2",
   "metadata": {},
   "outputs": [
    {
     "data": {
      "text/plain": [
       "20"
      ]
     },
     "execution_count": 34,
     "metadata": {},
     "output_type": "execute_result"
    }
   ],
   "source": [
    "store_profit10.values[250,1]"
   ]
  },
  {
   "cell_type": "code",
   "execution_count": 27,
   "id": "838f0c0c",
   "metadata": {},
   "outputs": [
    {
     "data": {
      "text/plain": [
       "20"
      ]
     },
     "execution_count": 27,
     "metadata": {},
     "output_type": "execute_result"
    }
   ],
   "source": [
    "store_profit10.iat[250, 1]"
   ]
  },
  {
   "cell_type": "code",
   "execution_count": 31,
   "id": "8cfe129a",
   "metadata": {},
   "outputs": [
    {
     "data": {
      "text/plain": [
       "Sales         584\n",
       "Unit Price     20\n",
       "Profit         77\n",
       "Name: 583, dtype: int64"
      ]
     },
     "execution_count": 31,
     "metadata": {},
     "output_type": "execute_result"
    }
   ],
   "source": [
    "row_250 = store_profit10.iloc[250]\n",
    "row_250"
   ]
  },
  {
   "cell_type": "code",
   "execution_count": 33,
   "id": "abc295b6",
   "metadata": {},
   "outputs": [
    {
     "data": {
      "text/plain": [
       "27"
      ]
     },
     "execution_count": 33,
     "metadata": {},
     "output_type": "execute_result"
    }
   ],
   "source": [
    "store_profit10.loc[250, \"Sales\"]"
   ]
  },
  {
   "cell_type": "code",
   "execution_count": 40,
   "id": "907d7e96",
   "metadata": {},
   "outputs": [
    {
     "data": {
      "text/plain": [
       "Sales         584\n",
       "Unit Price     20\n",
       "Profit         77\n",
       "Name: 583, dtype: int64"
      ]
     },
     "execution_count": 40,
     "metadata": {},
     "output_type": "execute_result"
    }
   ],
   "source": [
    "store_profit10.iloc[250,:]"
   ]
  },
  {
   "cell_type": "code",
   "execution_count": 36,
   "id": "019331ab",
   "metadata": {},
   "outputs": [
    {
     "data": {
      "text/html": [
       "<div>\n",
       "<style scoped>\n",
       "    .dataframe tbody tr th:only-of-type {\n",
       "        vertical-align: middle;\n",
       "    }\n",
       "\n",
       "    .dataframe tbody tr th {\n",
       "        vertical-align: top;\n",
       "    }\n",
       "\n",
       "    .dataframe thead th {\n",
       "        text-align: right;\n",
       "    }\n",
       "</style>\n",
       "<table border=\"1\" class=\"dataframe\">\n",
       "  <thead>\n",
       "    <tr style=\"text-align: right;\">\n",
       "      <th></th>\n",
       "      <th>Sales</th>\n",
       "      <th>Unit Price</th>\n",
       "      <th>Profit</th>\n",
       "    </tr>\n",
       "  </thead>\n",
       "  <tbody>\n",
       "    <tr>\n",
       "      <th>1</th>\n",
       "      <td>76</td>\n",
       "      <td>6</td>\n",
       "      <td>52</td>\n",
       "    </tr>\n",
       "    <tr>\n",
       "      <th>8</th>\n",
       "      <td>69</td>\n",
       "      <td>8</td>\n",
       "      <td>45</td>\n",
       "    </tr>\n",
       "    <tr>\n",
       "      <th>10</th>\n",
       "      <td>832</td>\n",
       "      <td>23</td>\n",
       "      <td>70</td>\n",
       "    </tr>\n",
       "    <tr>\n",
       "      <th>12</th>\n",
       "      <td>681</td>\n",
       "      <td>126</td>\n",
       "      <td>426</td>\n",
       "    </tr>\n",
       "    <tr>\n",
       "      <th>15</th>\n",
       "      <td>280</td>\n",
       "      <td>12</td>\n",
       "      <td>16</td>\n",
       "    </tr>\n",
       "    <tr>\n",
       "      <th>...</th>\n",
       "      <td>...</td>\n",
       "      <td>...</td>\n",
       "      <td>...</td>\n",
       "    </tr>\n",
       "    <tr>\n",
       "      <th>9413</th>\n",
       "      <td>275</td>\n",
       "      <td>17</td>\n",
       "      <td>24</td>\n",
       "    </tr>\n",
       "    <tr>\n",
       "      <th>9415</th>\n",
       "      <td>44</td>\n",
       "      <td>3</td>\n",
       "      <td>18</td>\n",
       "    </tr>\n",
       "    <tr>\n",
       "      <th>9416</th>\n",
       "      <td>252</td>\n",
       "      <td>60</td>\n",
       "      <td>40</td>\n",
       "    </tr>\n",
       "    <tr>\n",
       "      <th>9423</th>\n",
       "      <td>825</td>\n",
       "      <td>71</td>\n",
       "      <td>569</td>\n",
       "    </tr>\n",
       "    <tr>\n",
       "      <th>9424</th>\n",
       "      <td>163</td>\n",
       "      <td>41</td>\n",
       "      <td>22</td>\n",
       "    </tr>\n",
       "  </tbody>\n",
       "</table>\n",
       "<p>4303 rows × 3 columns</p>\n",
       "</div>"
      ],
      "text/plain": [
       "      Sales  Unit Price  Profit\n",
       "1        76           6      52\n",
       "8        69           8      45\n",
       "10      832          23      70\n",
       "12      681         126     426\n",
       "15      280          12      16\n",
       "...     ...         ...     ...\n",
       "9413    275          17      24\n",
       "9415     44           3      18\n",
       "9416    252          60      40\n",
       "9423    825          71     569\n",
       "9424    163          41      22\n",
       "\n",
       "[4303 rows x 3 columns]"
      ]
     },
     "execution_count": 36,
     "metadata": {},
     "output_type": "execute_result"
    }
   ],
   "source": [
    "store_profit10"
   ]
  },
  {
   "cell_type": "code",
   "execution_count": 48,
   "id": "5f971829",
   "metadata": {},
   "outputs": [
    {
     "data": {
      "text/html": [
       "<div>\n",
       "<style scoped>\n",
       "    .dataframe tbody tr th:only-of-type {\n",
       "        vertical-align: middle;\n",
       "    }\n",
       "\n",
       "    .dataframe tbody tr th {\n",
       "        vertical-align: top;\n",
       "    }\n",
       "\n",
       "    .dataframe thead th {\n",
       "        text-align: right;\n",
       "    }\n",
       "</style>\n",
       "<table border=\"1\" class=\"dataframe\">\n",
       "  <thead>\n",
       "    <tr style=\"text-align: right;\">\n",
       "      <th></th>\n",
       "      <th>index</th>\n",
       "      <th>Sales</th>\n",
       "      <th>Unit Price</th>\n",
       "      <th>Profit</th>\n",
       "    </tr>\n",
       "  </thead>\n",
       "  <tbody>\n",
       "    <tr>\n",
       "      <th>0</th>\n",
       "      <td>1</td>\n",
       "      <td>76</td>\n",
       "      <td>6</td>\n",
       "      <td>52</td>\n",
       "    </tr>\n",
       "    <tr>\n",
       "      <th>1</th>\n",
       "      <td>8</td>\n",
       "      <td>69</td>\n",
       "      <td>8</td>\n",
       "      <td>45</td>\n",
       "    </tr>\n",
       "    <tr>\n",
       "      <th>2</th>\n",
       "      <td>10</td>\n",
       "      <td>832</td>\n",
       "      <td>23</td>\n",
       "      <td>70</td>\n",
       "    </tr>\n",
       "    <tr>\n",
       "      <th>3</th>\n",
       "      <td>12</td>\n",
       "      <td>681</td>\n",
       "      <td>126</td>\n",
       "      <td>426</td>\n",
       "    </tr>\n",
       "    <tr>\n",
       "      <th>4</th>\n",
       "      <td>15</td>\n",
       "      <td>280</td>\n",
       "      <td>12</td>\n",
       "      <td>16</td>\n",
       "    </tr>\n",
       "    <tr>\n",
       "      <th>...</th>\n",
       "      <td>...</td>\n",
       "      <td>...</td>\n",
       "      <td>...</td>\n",
       "      <td>...</td>\n",
       "    </tr>\n",
       "    <tr>\n",
       "      <th>4298</th>\n",
       "      <td>9413</td>\n",
       "      <td>275</td>\n",
       "      <td>17</td>\n",
       "      <td>24</td>\n",
       "    </tr>\n",
       "    <tr>\n",
       "      <th>4299</th>\n",
       "      <td>9415</td>\n",
       "      <td>44</td>\n",
       "      <td>3</td>\n",
       "      <td>18</td>\n",
       "    </tr>\n",
       "    <tr>\n",
       "      <th>4300</th>\n",
       "      <td>9416</td>\n",
       "      <td>252</td>\n",
       "      <td>60</td>\n",
       "      <td>40</td>\n",
       "    </tr>\n",
       "    <tr>\n",
       "      <th>4301</th>\n",
       "      <td>9423</td>\n",
       "      <td>825</td>\n",
       "      <td>71</td>\n",
       "      <td>569</td>\n",
       "    </tr>\n",
       "    <tr>\n",
       "      <th>4302</th>\n",
       "      <td>9424</td>\n",
       "      <td>163</td>\n",
       "      <td>41</td>\n",
       "      <td>22</td>\n",
       "    </tr>\n",
       "  </tbody>\n",
       "</table>\n",
       "<p>4303 rows × 4 columns</p>\n",
       "</div>"
      ],
      "text/plain": [
       "      index  Sales  Unit Price  Profit\n",
       "0         1     76           6      52\n",
       "1         8     69           8      45\n",
       "2        10    832          23      70\n",
       "3        12    681         126     426\n",
       "4        15    280          12      16\n",
       "...     ...    ...         ...     ...\n",
       "4298   9413    275          17      24\n",
       "4299   9415     44           3      18\n",
       "4300   9416    252          60      40\n",
       "4301   9423    825          71     569\n",
       "4302   9424    163          41      22\n",
       "\n",
       "[4303 rows x 4 columns]"
      ]
     },
     "execution_count": 48,
     "metadata": {},
     "output_type": "execute_result"
    }
   ],
   "source": [
    "store_profit = store_profit10.reset_index()\n",
    "store_profit"
   ]
  },
  {
   "cell_type": "code",
   "execution_count": 55,
   "id": "7b830521",
   "metadata": {},
   "outputs": [
    {
     "data": {
      "text/html": [
       "<div>\n",
       "<style scoped>\n",
       "    .dataframe tbody tr th:only-of-type {\n",
       "        vertical-align: middle;\n",
       "    }\n",
       "\n",
       "    .dataframe tbody tr th {\n",
       "        vertical-align: top;\n",
       "    }\n",
       "\n",
       "    .dataframe thead th {\n",
       "        text-align: right;\n",
       "    }\n",
       "</style>\n",
       "<table border=\"1\" class=\"dataframe\">\n",
       "  <thead>\n",
       "    <tr style=\"text-align: right;\">\n",
       "      <th></th>\n",
       "      <th>Sales</th>\n",
       "      <th>Unit Price</th>\n",
       "      <th>Profit</th>\n",
       "    </tr>\n",
       "  </thead>\n",
       "  <tbody>\n",
       "    <tr>\n",
       "      <th>1</th>\n",
       "      <td>76</td>\n",
       "      <td>6</td>\n",
       "      <td>52</td>\n",
       "    </tr>\n",
       "    <tr>\n",
       "      <th>8</th>\n",
       "      <td>69</td>\n",
       "      <td>8</td>\n",
       "      <td>45</td>\n",
       "    </tr>\n",
       "    <tr>\n",
       "      <th>10</th>\n",
       "      <td>832</td>\n",
       "      <td>23</td>\n",
       "      <td>70</td>\n",
       "    </tr>\n",
       "    <tr>\n",
       "      <th>12</th>\n",
       "      <td>681</td>\n",
       "      <td>126</td>\n",
       "      <td>426</td>\n",
       "    </tr>\n",
       "    <tr>\n",
       "      <th>15</th>\n",
       "      <td>280</td>\n",
       "      <td>12</td>\n",
       "      <td>16</td>\n",
       "    </tr>\n",
       "    <tr>\n",
       "      <th>...</th>\n",
       "      <td>...</td>\n",
       "      <td>...</td>\n",
       "      <td>...</td>\n",
       "    </tr>\n",
       "    <tr>\n",
       "      <th>9413</th>\n",
       "      <td>275</td>\n",
       "      <td>17</td>\n",
       "      <td>24</td>\n",
       "    </tr>\n",
       "    <tr>\n",
       "      <th>9415</th>\n",
       "      <td>44</td>\n",
       "      <td>3</td>\n",
       "      <td>18</td>\n",
       "    </tr>\n",
       "    <tr>\n",
       "      <th>9416</th>\n",
       "      <td>252</td>\n",
       "      <td>60</td>\n",
       "      <td>40</td>\n",
       "    </tr>\n",
       "    <tr>\n",
       "      <th>9423</th>\n",
       "      <td>825</td>\n",
       "      <td>71</td>\n",
       "      <td>569</td>\n",
       "    </tr>\n",
       "    <tr>\n",
       "      <th>9424</th>\n",
       "      <td>163</td>\n",
       "      <td>41</td>\n",
       "      <td>22</td>\n",
       "    </tr>\n",
       "  </tbody>\n",
       "</table>\n",
       "<p>4303 rows × 3 columns</p>\n",
       "</div>"
      ],
      "text/plain": [
       "      Sales  Unit Price  Profit\n",
       "1        76           6      52\n",
       "8        69           8      45\n",
       "10      832          23      70\n",
       "12      681         126     426\n",
       "15      280          12      16\n",
       "...     ...         ...     ...\n",
       "9413    275          17      24\n",
       "9415     44           3      18\n",
       "9416    252          60      40\n",
       "9423    825          71     569\n",
       "9424    163          41      22\n",
       "\n",
       "[4303 rows x 3 columns]"
      ]
     },
     "execution_count": 55,
     "metadata": {},
     "output_type": "execute_result"
    }
   ],
   "source": [
    "store_profit10.iloc[250,1]\n",
    "store_profit10"
   ]
  },
  {
   "cell_type": "code",
   "execution_count": 149,
   "id": "1c631e57",
   "metadata": {},
   "outputs": [
    {
     "data": {
      "text/plain": [
       "Index(['Category', 'City', 'Container', 'Customer ID', 'Customer Name',\n",
       "       'Customer Segment', 'Department', 'Discount', 'Item ID', 'Item',\n",
       "       'Number of Records', 'Order Date', 'Order ID', 'Order Priority',\n",
       "       'Order Quantity', 'Postal Code', 'Product Base Margin', 'Profit',\n",
       "       'Region', 'Row ID', 'Sales', 'Ship Date', 'Ship Mode', 'Shipping Cost',\n",
       "       'State', 'Unit Price'],\n",
       "      dtype='object')"
      ]
     },
     "execution_count": 149,
     "metadata": {},
     "output_type": "execute_result"
    }
   ],
   "source": [
    "# 3. Use the Superstore data. Create a new variable Total Cost (sum of sales and shipping cost). \n",
    "# Extract the following columns in this order: Sales, Shipping Cost, Total Cost. \n",
    "# Keep only transactions in California. \n",
    "# What's the value at index [150, 2]? \n",
    "\n",
    "store.columns"
   ]
  },
  {
   "cell_type": "code",
   "execution_count": 154,
   "id": "16c63ac0",
   "metadata": {},
   "outputs": [
    {
     "data": {
      "text/plain": [
       "Index(['Category', 'City', 'Container', 'Customer ID', 'Customer Name',\n",
       "       'Customer Segment', 'Department', 'Discount', 'Item ID', 'Item',\n",
       "       'Number of Records', 'Order Date', 'Order ID', 'Order Priority',\n",
       "       'Order Quantity', 'Postal Code', 'Product Base Margin', 'Profit',\n",
       "       'Region', 'Row ID', 'Sales', 'Ship Date', 'Ship Mode', 'Shipping Cost',\n",
       "       'State', 'Unit Price', 'Total Cost'],\n",
       "      dtype='object')"
      ]
     },
     "execution_count": 154,
     "metadata": {},
     "output_type": "execute_result"
    }
   ],
   "source": [
    "store['Total Cost'] = store['Sales']+store['Shipping Cost']\n",
    "store.columns"
   ]
  },
  {
   "cell_type": "code",
   "execution_count": 179,
   "id": "33aac719",
   "metadata": {},
   "outputs": [
    {
     "data": {
      "text/plain": [
       "array([380,   9, 389], dtype=int64)"
      ]
     },
     "execution_count": 179,
     "metadata": {},
     "output_type": "execute_result"
    }
   ],
   "source": [
    "# store_cali.values[150,2]\n",
    "\n",
    "store_cali_columns = store[store['State'] == 'California'][['Sales', 'Shipping Cost', 'Total Cost']]\n",
    "store_cali_columns.values[150,:]"
   ]
  },
  {
   "cell_type": "code",
   "execution_count": 285,
   "id": "85b55149",
   "metadata": {},
   "outputs": [
    {
     "data": {
      "text/plain": [
       "Paper                             753\n",
       "Binders and Binder Accessories    561\n",
       "Computer Peripherals              413\n",
       "Storage & Organization            383\n",
       "Office Furnishings                356\n",
       "Telephones and Communication      344\n",
       "Pens & Art Supplies               335\n",
       "Tables                            268\n",
       "Appliances                        233\n",
       "Chairs & Chairmats                218\n",
       "Office Machines                   142\n",
       "Bookcases                         141\n",
       "Rubber Bands                      106\n",
       "Scissors, Rulers and Trimmers      98\n",
       "Envelopes                          89\n",
       "Labels                             58\n",
       "Copiers and Fax                    34\n",
       "Name: Category, dtype: int64"
      ]
     },
     "execution_count": 285,
     "metadata": {},
     "output_type": "execute_result"
    }
   ],
   "source": [
    "# 4. Use the Superstore data. First, find the category with the most transactions with negative profit.\n",
    "# For that category, how many transactions have negative profit? \n",
    "\n",
    "# Find transactions with negative profit\n",
    "negative_profit_transactions = store[store['Profit'] < 0]\n",
    "\n",
    "# Group the data by category and count the number of negative profit transactions for each category\n",
    "category_negative_profit_count = negative_profit_transactions['Category'].value_counts()\n",
    "\n",
    "category_negative_profit_count\n"
   ]
  },
  {
   "cell_type": "code",
   "execution_count": 70,
   "id": "a025e62c",
   "metadata": {},
   "outputs": [
    {
     "data": {
      "text/plain": [
       "Index(['Category', 'City', 'Container', 'Customer ID', 'Customer Name',\n",
       "       'Customer Segment', 'Department', 'Discount', 'Item ID', 'Item',\n",
       "       'Number of Records', 'Order Date', 'Order ID', 'Order Priority',\n",
       "       'Order Quantity', 'Postal Code', 'Product Base Margin', 'Profit',\n",
       "       'Region', 'Row ID', 'Sales', 'Ship Date', 'Ship Mode', 'Shipping Cost',\n",
       "       'State', 'Unit Price'],\n",
       "      dtype='object')"
      ]
     },
     "execution_count": 70,
     "metadata": {},
     "output_type": "execute_result"
    }
   ],
   "source": [
    "store.columns"
   ]
  },
  {
   "cell_type": "code",
   "execution_count": 79,
   "id": "9a14331d",
   "metadata": {},
   "outputs": [
    {
     "data": {
      "text/plain": [
       "41"
      ]
     },
     "execution_count": 79,
     "metadata": {},
     "output_type": "execute_result"
    }
   ],
   "source": [
    "# 5. Use the Superstore data. How many unique customer names are there in the state of Washington? \n",
    "store_washington = store[store['State'] == 'Washington']\n",
    "store_washington['Customer Name'].nunique()"
   ]
  },
  {
   "cell_type": "code",
   "execution_count": 87,
   "id": "cf234bfb",
   "metadata": {},
   "outputs": [
    {
     "data": {
      "text/html": [
       "<div>\n",
       "<style scoped>\n",
       "    .dataframe tbody tr th:only-of-type {\n",
       "        vertical-align: middle;\n",
       "    }\n",
       "\n",
       "    .dataframe tbody tr th {\n",
       "        vertical-align: top;\n",
       "    }\n",
       "\n",
       "    .dataframe thead th {\n",
       "        text-align: right;\n",
       "    }\n",
       "</style>\n",
       "<table border=\"1\" class=\"dataframe\">\n",
       "  <thead>\n",
       "    <tr style=\"text-align: right;\">\n",
       "      <th></th>\n",
       "      <th>Category</th>\n",
       "      <th>City</th>\n",
       "      <th>Container</th>\n",
       "      <th>Customer ID</th>\n",
       "      <th>Customer Name</th>\n",
       "      <th>Customer Segment</th>\n",
       "      <th>Department</th>\n",
       "      <th>Discount</th>\n",
       "      <th>Item ID</th>\n",
       "      <th>Item</th>\n",
       "      <th>...</th>\n",
       "      <th>Product Base Margin</th>\n",
       "      <th>Profit</th>\n",
       "      <th>Region</th>\n",
       "      <th>Row ID</th>\n",
       "      <th>Sales</th>\n",
       "      <th>Ship Date</th>\n",
       "      <th>Ship Mode</th>\n",
       "      <th>Shipping Cost</th>\n",
       "      <th>State</th>\n",
       "      <th>Unit Price</th>\n",
       "    </tr>\n",
       "  </thead>\n",
       "  <tbody>\n",
       "    <tr>\n",
       "      <th>0</th>\n",
       "      <td>Paper</td>\n",
       "      <td>Lombard</td>\n",
       "      <td>Small Box</td>\n",
       "      <td>3035</td>\n",
       "      <td>Mark Bailey</td>\n",
       "      <td>Home Office</td>\n",
       "      <td>Office Supplies</td>\n",
       "      <td>0.01</td>\n",
       "      <td>10074</td>\n",
       "      <td>Hammermill CopyPlus Copy Paper (20Lb. and 84 B...</td>\n",
       "      <td>...</td>\n",
       "      <td>0.36</td>\n",
       "      <td>-76</td>\n",
       "      <td>Central</td>\n",
       "      <td>11/18/1951</td>\n",
       "      <td>53</td>\n",
       "      <td>11/9/2018</td>\n",
       "      <td>Regular Air</td>\n",
       "      <td>5</td>\n",
       "      <td>Illinois</td>\n",
       "      <td>5</td>\n",
       "    </tr>\n",
       "    <tr>\n",
       "      <th>1</th>\n",
       "      <td>Paper</td>\n",
       "      <td>Lombard</td>\n",
       "      <td>Wrap Bag</td>\n",
       "      <td>3035</td>\n",
       "      <td>Mark Bailey</td>\n",
       "      <td>Home Office</td>\n",
       "      <td>Office Supplies</td>\n",
       "      <td>0.04</td>\n",
       "      <td>10079</td>\n",
       "      <td>Telephone Message Books with Fax/Mobile Sectio...</td>\n",
       "      <td>...</td>\n",
       "      <td>0.39</td>\n",
       "      <td>52</td>\n",
       "      <td>Central</td>\n",
       "      <td>11/19/1951</td>\n",
       "      <td>76</td>\n",
       "      <td>11/12/2016</td>\n",
       "      <td>Regular Air</td>\n",
       "      <td>1</td>\n",
       "      <td>Illinois</td>\n",
       "      <td>6</td>\n",
       "    </tr>\n",
       "  </tbody>\n",
       "</table>\n",
       "<p>2 rows × 26 columns</p>\n",
       "</div>"
      ],
      "text/plain": [
       "  Category     City  Container  Customer ID Customer Name Customer Segment  \\\n",
       "0    Paper  Lombard  Small Box         3035   Mark Bailey      Home Office   \n",
       "1    Paper  Lombard   Wrap Bag         3035   Mark Bailey      Home Office   \n",
       "\n",
       "        Department  Discount  Item ID  \\\n",
       "0  Office Supplies      0.01    10074   \n",
       "1  Office Supplies      0.04    10079   \n",
       "\n",
       "                                                Item  ...  \\\n",
       "0  Hammermill CopyPlus Copy Paper (20Lb. and 84 B...  ...   \n",
       "1  Telephone Message Books with Fax/Mobile Sectio...  ...   \n",
       "\n",
       "   Product Base Margin Profit   Region      Row ID  Sales   Ship Date  \\\n",
       "0                 0.36    -76  Central  11/18/1951     53   11/9/2018   \n",
       "1                 0.39     52  Central  11/19/1951     76  11/12/2016   \n",
       "\n",
       "     Ship Mode  Shipping Cost     State Unit Price  \n",
       "0  Regular Air              5  Illinois          5  \n",
       "1  Regular Air              1  Illinois          6  \n",
       "\n",
       "[2 rows x 26 columns]"
      ]
     },
     "execution_count": 87,
     "metadata": {},
     "output_type": "execute_result"
    }
   ],
   "source": [
    "# 6. Use the Superstore data. What's the most number of transactions made by a customer in the Central Region? 21\n",
    "store['Region'].unique()\n",
    "store_Central = store[store['Region'] == 'Central']\n",
    "store_Central.head(2)\n"
   ]
  },
  {
   "cell_type": "code",
   "execution_count": 102,
   "id": "4dbd0334",
   "metadata": {},
   "outputs": [
    {
     "data": {
      "text/plain": [
       "Customer ID  Region \n",
       "308          Central    21\n",
       "1999         Central    19\n",
       "1106         Central    17\n",
       "1402         Central    16\n",
       "94           Central    14\n",
       "                        ..\n",
       "870          Central     1\n",
       "2775         Central     1\n",
       "2761         Central     1\n",
       "2744         Central     1\n",
       "2            Central     1\n",
       "Name: Order ID, Length: 640, dtype: int64"
      ]
     },
     "execution_count": 102,
     "metadata": {},
     "output_type": "execute_result"
    }
   ],
   "source": [
    "grouped_store_central = store_Central.groupby(['Customer ID', 'Region'])['Order ID'].count()\n",
    "grouped_store_central.reset_index()\n",
    "grouped_store_central.sort_values( ascending = False)\n"
   ]
  },
  {
   "cell_type": "code",
   "execution_count": 113,
   "id": "32b0eca0",
   "metadata": {},
   "outputs": [
    {
     "data": {
      "text/plain": [
       "456736"
      ]
     },
     "execution_count": 113,
     "metadata": {},
     "output_type": "execute_result"
    }
   ],
   "source": [
    "# 7. Use the Superstore data. What's the total sales value across all products in the appliances category? \n",
    "store.columns\n",
    "app_sales = store[store['Category']== 'Appliances']\n",
    "app_total_sales = app_sales[['Category', 'Sales']]\n",
    "app_total_sales['Sales'].sum()"
   ]
  },
  {
   "cell_type": "code",
   "execution_count": 144,
   "id": "8a04a83f",
   "metadata": {},
   "outputs": [
    {
     "data": {
      "text/html": [
       "<div>\n",
       "<style scoped>\n",
       "    .dataframe tbody tr th:only-of-type {\n",
       "        vertical-align: middle;\n",
       "    }\n",
       "\n",
       "    .dataframe tbody tr th {\n",
       "        vertical-align: top;\n",
       "    }\n",
       "\n",
       "    .dataframe thead th {\n",
       "        text-align: right;\n",
       "    }\n",
       "</style>\n",
       "<table border=\"1\" class=\"dataframe\">\n",
       "  <thead>\n",
       "    <tr style=\"text-align: right;\">\n",
       "      <th></th>\n",
       "      <th>Order_Count</th>\n",
       "      <th>Total_Sales</th>\n",
       "    </tr>\n",
       "    <tr>\n",
       "      <th>Customer ID</th>\n",
       "      <th></th>\n",
       "      <th></th>\n",
       "    </tr>\n",
       "  </thead>\n",
       "  <tbody>\n",
       "    <tr>\n",
       "      <th>1193</th>\n",
       "      <td>27</td>\n",
       "      <td>32896</td>\n",
       "    </tr>\n",
       "    <tr>\n",
       "      <th>699</th>\n",
       "      <td>26</td>\n",
       "      <td>43231</td>\n",
       "    </tr>\n",
       "    <tr>\n",
       "      <th>2107</th>\n",
       "      <td>22</td>\n",
       "      <td>83651</td>\n",
       "    </tr>\n",
       "    <tr>\n",
       "      <th>2491</th>\n",
       "      <td>22</td>\n",
       "      <td>55239</td>\n",
       "    </tr>\n",
       "    <tr>\n",
       "      <th>2882</th>\n",
       "      <td>21</td>\n",
       "      <td>33910</td>\n",
       "    </tr>\n",
       "    <tr>\n",
       "      <th>...</th>\n",
       "      <td>...</td>\n",
       "      <td>...</td>\n",
       "    </tr>\n",
       "    <tr>\n",
       "      <th>2536</th>\n",
       "      <td>1</td>\n",
       "      <td>1306</td>\n",
       "    </tr>\n",
       "    <tr>\n",
       "      <th>2538</th>\n",
       "      <td>1</td>\n",
       "      <td>13</td>\n",
       "    </tr>\n",
       "    <tr>\n",
       "      <th>1172</th>\n",
       "      <td>1</td>\n",
       "      <td>869</td>\n",
       "    </tr>\n",
       "    <tr>\n",
       "      <th>1168</th>\n",
       "      <td>1</td>\n",
       "      <td>4</td>\n",
       "    </tr>\n",
       "    <tr>\n",
       "      <th>2</th>\n",
       "      <td>1</td>\n",
       "      <td>6</td>\n",
       "    </tr>\n",
       "  </tbody>\n",
       "</table>\n",
       "<p>2703 rows × 2 columns</p>\n",
       "</div>"
      ],
      "text/plain": [
       "             Order_Count  Total_Sales\n",
       "Customer ID                          \n",
       "1193                  27        32896\n",
       "699                   26        43231\n",
       "2107                  22        83651\n",
       "2491                  22        55239\n",
       "2882                  21        33910\n",
       "...                  ...          ...\n",
       "2536                   1         1306\n",
       "2538                   1           13\n",
       "1172                   1          869\n",
       "1168                   1            4\n",
       "2                      1            6\n",
       "\n",
       "[2703 rows x 2 columns]"
      ]
     },
     "execution_count": 144,
     "metadata": {},
     "output_type": "execute_result"
    }
   ],
   "source": [
    "# 8. Use the Superstore data. For the customer with the most transactions in the entire data, \n",
    "# what's the total sales generated by that customer? \n",
    "\n",
    "biggest_spender = store.groupby('Customer ID').agg(Order_Count=('Order ID', 'count'), Total_Sales=('Sales', 'sum'))\n",
    "# biggest_spender.sort_values(ascending = False)\n",
    "biggest_spender.sort_values(by = 'Order_Count', ascending = False)"
   ]
  },
  {
   "cell_type": "code",
   "execution_count": 185,
   "id": "bd2268f7",
   "metadata": {},
   "outputs": [
    {
     "data": {
      "text/plain": [
       "0     11/7/2017\n",
       "1    11/10/2015\n",
       "2    11/22/2016\n",
       "3     1/12/2017\n",
       "4     1/12/2017\n",
       "5      9/3/2016\n",
       "6     1/12/2017\n",
       "7    10/19/2016\n",
       "8    10/17/2017\n",
       "9     1/12/2017\n",
       "Name: Order Date, dtype: object"
      ]
     },
     "execution_count": 185,
     "metadata": {},
     "output_type": "execute_result"
    }
   ],
   "source": [
    "store['Order Date'].head(10)"
   ]
  },
  {
   "cell_type": "code",
   "execution_count": 213,
   "id": "e4a7af61",
   "metadata": {},
   "outputs": [
    {
     "data": {
      "text/plain": [
       "1084.8560606060605"
      ]
     },
     "execution_count": 213,
     "metadata": {},
     "output_type": "execute_result"
    }
   ],
   "source": [
    "# 9. Use the Superstore data. What's the average sales across all transactions with order date in August 2015? \n",
    "# There are multiple ways to get the answer. One way is to extract month and year as in previous labs. \n",
    "# Look up pd.to_datetime() and the parameter 'format' in the documentation. \n",
    "# Then calculate average sales for transactions with order date in August 2015.\n",
    "# Round your answer to nearest whole number.\n",
    "\n",
    "store['Month'] = pd.to_datetime(store['Order Date'], format='%m/%d/%Y').dt.month\n",
    "store['Year'] = pd.to_datetime(store['Order Date'], format='%m/%d/%Y').dt.year\n",
    "store_aug2015 = store[(store['Month'] == 8) & (store['Year'] == 2015)]\n",
    "average_sales_aug2015 = store_aug2015['Sales'].mean()\n",
    "average_sales_aug2015"
   ]
  },
  {
   "cell_type": "code",
   "execution_count": 222,
   "id": "c3f44511",
   "metadata": {},
   "outputs": [
    {
     "data": {
      "text/plain": [
       "Q4    3704\n",
       "Q3    3499\n",
       "Q1    2091\n",
       "Q2     132\n",
       "Name: Quarter, dtype: int64"
      ]
     },
     "execution_count": 222,
     "metadata": {},
     "output_type": "execute_result"
    }
   ],
   "source": [
    "# 10. Use the Superstore data. Crete a new variable Quarter based on month of order date. \n",
    "# Quarter = Q1 if the month of order date is from January to March. \n",
    "# Quarter = Q2 if the month of order date is from April to June. \n",
    "# Quarter = Q3 if the month of order date is from July to September. \n",
    "# Quarter = Q4 if the month of order date is from October to December. \n",
    "\n",
    "# Which quarter (regardless of year) has the most transactions? Enter the quarter number. \n",
    "\n",
    "store['Quarter'] = store['Month'].apply(lambda x: \n",
    "    'Q1' if 1 <= x <= 3 else \n",
    "    'Q2' if 4 <= x <= 6 else \n",
    "    'Q3' if 7 <= x <= 9 else \n",
    "    'Q4'\n",
    ")\n",
    "\n",
    "# Count the number of transactions in each quarter\n",
    "quarter_counts = store['Quarter'].value_counts()\n",
    "quarter_counts"
   ]
  },
  {
   "cell_type": "markdown",
   "id": "026d3173",
   "metadata": {},
   "source": [
    "## Decision Tree & Feature Importance\n",
    "\n"
   ]
  },
  {
   "cell_type": "code",
   "execution_count": 271,
   "id": "c5364669",
   "metadata": {},
   "outputs": [
    {
     "name": "stdout",
     "output_type": "stream",
     "text": [
      "Feature ranking:\n",
      "                    Feature Total Reduction of Criterion\n",
      "0      Daily Internet Usage                      0.60709\n",
      "1  Daily Time Spent on Site                     0.285544\n",
      "2               Area Income                     0.052948\n",
      "3                       Age                      0.03349\n",
      "4           Country_Belgium                     0.011116\n",
      "5          Country_Thailand                     0.009812\n",
      "6           Country_Germany                          0.0\n",
      "7                      Male                          0.0\n",
      "8         Country_Argentina                          0.0\n",
      "9         Country_Australia                          0.0\n"
     ]
    },
    {
     "data": {
      "text/plain": [
       "<Axes: title={'center': 'Feature importances'}, xlabel='Total Reduction of Criterion', ylabel='Feature'>"
      ]
     },
     "execution_count": 271,
     "metadata": {},
     "output_type": "execute_result"
    },
    {
     "data": {
      "image/png": "[encoded data removed]",
      "text/plain": [
       "<Figure size 640x480 with 1 Axes>"
      ]
     },
     "metadata": {},
     "output_type": "display_data"
    }
   ],
   "source": [
    "# 11. Use the advertising.csv data. Use sklearn. Use Clicked on Ad as the y-variable.\n",
    "\n",
    "# Train a decision tree with these x-variables: \n",
    "# Age, Daily Time Spent on Site, Area Income, Male, Daily Internet Usage, Country Dummies\n",
    "# Use 30% as test size, random_state=101. \n",
    "\n",
    "# Rank the variables based on feature importance. Which variable is the most important?\n",
    "\n",
    "ads = pd.read_csv('advertising.csv')\n",
    "ads2 = pd.get_dummies(ads, columns=['Country'], drop_first= True)\n",
    "ads2.columns\n",
    "ads2 = ads2.drop(['Ad Topic Line', 'Timestamp'], axis=1) # drop variables you don't want\n",
    "\n",
    "X = ads2.drop('Clicked on Ad',axis=1) \n",
    "y = ads['Clicked on Ad']\n",
    "X_train, X_test, y_train, y_test = train_test_split(X, y, test_size=0.30, random_state=101)\n",
    "X_train.head()\n",
    "\n",
    "model11 = DecisionTreeClassifier(criterion='entropy', random_state=101, max_depth=5)\n",
    "model11.fit(X_train, y_train)\n",
    "\n",
    "# Feature Importance\n",
    "\n",
    "importances = model11.feature_importances_ \n",
    "indices = np.argsort(importances)[::-1]\n",
    "\n",
    "print(\"Feature ranking:\")\n",
    "\n",
    "feature_names = X_train.columns \n",
    "\n",
    "fi = pd.DataFrame([feature_names[indices[0:10]], importances[indices][0:10]])\n",
    "fi = fi.T\n",
    "fi.columns = ['Feature', 'Total Reduction of Criterion']\n",
    "\n",
    "print(fi)\n",
    "\n",
    "plt.figure()\n",
    "plt.title(\"Feature importances\")\n",
    "\n",
    "sns.set_color_codes(\"pastel\")\n",
    "sns.barplot(x=\"Total Reduction of Criterion\", y=\"Feature\", data=fi, color=\"b\")\n",
    "\n"
   ]
  },
  {
   "cell_type": "code",
   "execution_count": 278,
   "id": "194f8669",
   "metadata": {},
   "outputs": [
    {
     "name": "stdout",
     "output_type": "stream",
     "text": [
      "0.9413333333333334\n"
     ]
    }
   ],
   "source": [
    "# 12. Use the advertising.csv data. Use sklearn. Use Clicked on Ad as the y-variable.\n",
    "\n",
    "# Train 5 decision trees with these x-variables: \n",
    "# Age, Daily Time Spent on Site, Area Income, Male, Daily Internet Usage, Country Dummies\n",
    "# Vary the maximum tree depth for each model (use 5, 6, 7, 8, 9). \n",
    "# Use 30% as test size, random_state=101. \n",
    "\n",
    "# What is the average accuracy for the 5 models for the test set? Round the answer to 2 decimals.\n",
    "\n",
    "# Select the x-variables and target variable\n",
    "ads2.columns\n",
    "X = ads2.drop('Clicked on Ad', axis =1)\n",
    "y = ads2['Clicked on Ad']\n",
    "\n",
    "# Initialize a list to store accuracy scores\n",
    "accuracy_scores = []\n",
    "\n",
    "# Vary the maximum tree depth (5, 6, 7, 8, 9)\n",
    "depths = [5, 6, 7, 8, 9]\n",
    "\n",
    "# Train and evaluate the decision trees\n",
    "for x in depths:\n",
    "    X_train, X_test, y_train, y_test = train_test_split(X, y, test_size=0.3, random_state=101)\n",
    "    \n",
    "    model = DecisionTreeClassifier(criterion = 'entropy', random_state = 101, max_depth=x)\n",
    "    model.fit(X_train, y_train)\n",
    "    y_pred = model.predict(X_test)\n",
    "    \n",
    "    acc, precision, recall, f1score, auc = classification_metrics(y_pred, y_test)\n",
    "    accuracy_scores.append(acc)\n",
    "\n",
    "np.mean(accuracy_scores)\n",
    "print(np.mean(accuracy_scores))\n"
   ]
  },
  {
   "cell_type": "code",
   "execution_count": 279,
   "id": "a5d6e739",
   "metadata": {},
   "outputs": [
    {
     "data": {
      "image/png": "[encoded data removed]",
      "text/plain": [
       "<Figure size 640x480 with 1 Axes>"
      ]
     },
     "metadata": {},
     "output_type": "display_data"
    }
   ],
   "source": [
    "# 13. Use the results from the question above. Create a line plot of accuracy of the test set vs. maximum tree depth. \n",
    "# Upload the figure. \n",
    "\n",
    "depths = [5, 6, 7, 8, 9]\n",
    "average_accuracy = np.mean(accuracy_scores)\n",
    "\n",
    "# Create a line plot of accuracy vs. maximum tree depth\n",
    "plt.plot(depths, accuracy_scores, marker = 'o', linestyle='-', color='b')\n",
    "plt.title(\"Accuracy vs. Maximum Tree Depth\")\n",
    "plt.xlabel(\"Maximum Tree Depth\")\n",
    "plt.ylabel(\"Accuracy\")\n",
    "plt.grid(True)\n",
    "\n",
    "\n",
    "plt.savefig('accuracy_vs_depth.png')\n",
    "\n",
    "# Show the plot (optional)\n",
    "plt.show()\n"
   ]
  },
  {
   "cell_type": "code",
   "execution_count": 272,
   "id": "94c1d1f1",
   "metadata": {},
   "outputs": [
    {
     "name": "stdout",
     "output_type": "stream",
     "text": [
      "0.9493333333333333\n"
     ]
    }
   ],
   "source": [
    "# 14. Use the advertising.csv data. Use sklearn. Use Clicked on Ad as the y-variable.\n",
    "\n",
    "# Train 5 random forests with these x-variables: \n",
    "# Age, Daily Time Spent on Site, Area Income, Male, Daily Internet Usage, Country Dummies\n",
    "# Vary the number of trees for random forest (use 10, 100, 250, 500, 750). \n",
    "# Use 30% as test size, random_state=101. \n",
    "\n",
    "# What is the average accuracy for the 5 models for the test set? Round the answer to 2 decimals.\n",
    "\n",
    "\n",
    "# Select the x-variables and target variable\n",
    "ads2.columns\n",
    "X = ads2.drop('Clicked on Ad', axis =1)\n",
    "y = ads2['Clicked on Ad']\n",
    "\n",
    "# Initialize a list to store accuracy scores\n",
    "accuracy_scores = []\n",
    "\n",
    "# Vary the maximum tree depth (5, 6, 7, 8, 9)\n",
    "depths = [10, 100, 250, 500, 750]\n",
    "\n",
    "# Train and evaluate the decision trees\n",
    "for x in depths:\n",
    "    X_train, X_test, y_train, y_test = train_test_split(X, y, test_size=0.3, random_state=101)\n",
    "    \n",
    "    model14 = RandomForestClassifier(n_estimators=x, random_state=101)\n",
    "    model14.fit(X_train, y_train)\n",
    "    y_pred = model14.predict(X_test)\n",
    "    \n",
    "    acc, precision, recall, f1score, auc = classification_metrics(y_pred, y_test)\n",
    "    accuracy_scores.append(acc)\n",
    "\n",
    "np.mean(accuracy_scores)\n",
    "print(np.mean(accuracy_scores))\n"
   ]
  },
  {
   "cell_type": "code",
   "execution_count": 275,
   "id": "b7b04209",
   "metadata": {},
   "outputs": [
    {
     "data": {
      "image/png": "[encoded data removed]",
      "text/plain": [
       "<Figure size 640x480 with 1 Axes>"
      ]
     },
     "metadata": {},
     "output_type": "display_data"
    }
   ],
   "source": [
    "# 15. Use the results from the question above. Create a line plot of accuracy of the test set vs. number of trees. \n",
    "# Upload the figure. \n",
    "\n",
    "plt.plot(depths, accuracy_scores, marker = 'o', linestyle='-', color='b')\n",
    "plt.title(\"Accuracy vs. Number of Trees\")\n",
    "plt.xlabel(\"Number of Trees\")\n",
    "plt.ylabel(\"Accuracy\")\n",
    "plt.grid(True)\n",
    "\n",
    "\n",
    "plt.savefig('accuracy_vs_numberoftrees.png')\n",
    "\n",
    "# Show the plot (optional)\n",
    "plt.show()"
   ]
  },
  {
   "cell_type": "code",
   "execution_count": 297,
   "id": "5911b9c8",
   "metadata": {},
   "outputs": [
    {
     "name": "stdout",
     "output_type": "stream",
     "text": [
      "C: 1 | gamma: 0.1\n",
      "______________________________________________\n",
      "Model: SVM\n",
      "Accuracy: 0.45666666666666667\n",
      "Precision: 0.45666666666666667\n",
      "Recall: 1.0\n",
      "F1-score: 0.6270022883295195\n",
      "AUC: 0.5\n",
      "______________________________________________\n",
      "\n",
      "C: 1 | gamma: 0.5\n",
      "______________________________________________\n",
      "Model: SVM\n",
      "Accuracy: 0.45666666666666667\n",
      "Precision: 0.45666666666666667\n",
      "Recall: 1.0\n",
      "F1-score: 0.6270022883295195\n",
      "AUC: 0.5\n",
      "______________________________________________\n",
      "\n",
      "C: 1 | gamma: 1.0\n",
      "______________________________________________\n",
      "Model: SVM\n",
      "Accuracy: 0.45666666666666667\n",
      "Precision: 0.45666666666666667\n",
      "Recall: 1.0\n",
      "F1-score: 0.6270022883295195\n",
      "AUC: 0.5\n",
      "______________________________________________\n",
      "\n",
      "C: 5 | gamma: 0.1\n",
      "______________________________________________\n",
      "Model: SVM\n",
      "Accuracy: 0.45666666666666667\n",
      "Precision: 0.45666666666666667\n",
      "Recall: 1.0\n",
      "F1-score: 0.6270022883295195\n",
      "AUC: 0.5\n",
      "______________________________________________\n",
      "\n",
      "C: 5 | gamma: 0.5\n",
      "______________________________________________\n",
      "Model: SVM\n",
      "Accuracy: 0.45666666666666667\n",
      "Precision: 0.45666666666666667\n",
      "Recall: 1.0\n",
      "F1-score: 0.6270022883295195\n",
      "AUC: 0.5\n",
      "______________________________________________\n",
      "\n",
      "C: 5 | gamma: 1.0\n",
      "______________________________________________\n",
      "Model: SVM\n",
      "Accuracy: 0.45666666666666667\n",
      "Precision: 0.45666666666666667\n",
      "Recall: 1.0\n",
      "F1-score: 0.6270022883295195\n",
      "AUC: 0.5\n",
      "______________________________________________\n",
      "\n",
      "C: 10 | gamma: 0.1\n",
      "______________________________________________\n",
      "Model: SVM\n",
      "Accuracy: 0.45666666666666667\n",
      "Precision: 0.45666666666666667\n",
      "Recall: 1.0\n",
      "F1-score: 0.6270022883295195\n",
      "AUC: 0.5\n",
      "______________________________________________\n",
      "\n",
      "C: 10 | gamma: 0.5\n",
      "______________________________________________\n",
      "Model: SVM\n",
      "Accuracy: 0.45666666666666667\n",
      "Precision: 0.45666666666666667\n",
      "Recall: 1.0\n",
      "F1-score: 0.6270022883295195\n",
      "AUC: 0.5\n",
      "______________________________________________\n",
      "\n",
      "C: 10 | gamma: 1.0\n",
      "______________________________________________\n",
      "Model: SVM\n",
      "Accuracy: 0.45666666666666667\n",
      "Precision: 0.45666666666666667\n",
      "Recall: 1.0\n",
      "F1-score: 0.6270022883295195\n",
      "AUC: 0.5\n",
      "______________________________________________\n",
      "\n"
     ]
    }
   ],
   "source": [
    "# 16. Use the advertising.csv data. Use sklearn. Use Clicked on Ad as the y-variable.\n",
    "\n",
    "# Train SVMs with these x-variables: Age, Daily Time Spent on Site, Area Income, Male, Daily Internet Usage, Country Dummies\n",
    "\n",
    "# Vary the parameters C and gamma for the models: \n",
    "\n",
    "# For C: use 1, 5, 10\n",
    "# For gamma: use 0.1, 0.5, 1.0\n",
    "\n",
    "# Train an SVM for each combination of C and gamma. In total, there are 9 SVMs.\n",
    "# Use 30% as test size, random_state=101. \n",
    "\n",
    "# What is the average precision for all models for the test set? Round to 2 decimals.\n",
    "\n",
    "# You may use the code below and fill in the 2 TODO sections (to set up X and y; and to calculate y_pred)\n",
    "\n",
    "# Select the x-variables and target variable\n",
    "ads2.columns\n",
    "X = ads2.drop('Clicked on Ad', axis =1)\n",
    "y = ads2['Clicked on Ad']\n",
    "\n",
    "# Initialize a list to store precision scores\n",
    "precisions = []\n",
    "cs = [1,5,10]\n",
    "gamma = [0.1,0.5,1.0]\n",
    "X_train, X_test, y_train, y_test = train_test_split(X, y, test_size = 0.3, random_state = 101)\n",
    "for c in cs:\n",
    "    for g in gamma:\n",
    "        \n",
    "        model16 = SVC(C=c, gamma= g, random_state = 101)\n",
    "        model16.fit(X_train, y_train)\n",
    "        y_pred = model16.predict(X_test)\n",
    "        acc, precision, recall, f1score, auc = classification_metrics(y_pred, y_test)\n",
    "        precisions.append(precision)\n",
    "        print('C:', c, '|', 'gamma:', g)\n",
    "        display_metrics('SVM', y_pred, y_test)\n",
    "        \n"
   ]
  },
  {
   "cell_type": "code",
   "execution_count": 295,
   "id": "484fb541",
   "metadata": {},
   "outputs": [
    {
     "name": "stdout",
     "output_type": "stream",
     "text": [
      "C: 1 | gamma: 0.1\n",
      "______________________________________________\n",
      "Model: SVM\n",
      "Accuracy: 0.45666666666666667\n",
      "Precision: 0.45666666666666667\n",
      "Recall: 1.0\n",
      "F1-score: 0.6270022883295195\n",
      "AUC: 0.5\n",
      "______________________________________________\n",
      "\n",
      "C: 1 | gamma: 0.5\n",
      "______________________________________________\n",
      "Model: SVM\n",
      "Accuracy: 0.45666666666666667\n",
      "Precision: 0.45666666666666667\n",
      "Recall: 1.0\n",
      "F1-score: 0.6270022883295195\n",
      "AUC: 0.5\n",
      "______________________________________________\n",
      "\n",
      "C: 1 | gamma: 1.0\n",
      "______________________________________________\n",
      "Model: SVM\n",
      "Accuracy: 0.45666666666666667\n",
      "Precision: 0.45666666666666667\n",
      "Recall: 1.0\n",
      "F1-score: 0.6270022883295195\n",
      "AUC: 0.5\n",
      "______________________________________________\n",
      "\n",
      "C: 5 | gamma: 0.1\n",
      "______________________________________________\n",
      "Model: SVM\n",
      "Accuracy: 0.45666666666666667\n",
      "Precision: 0.45666666666666667\n",
      "Recall: 1.0\n",
      "F1-score: 0.6270022883295195\n",
      "AUC: 0.5\n",
      "______________________________________________\n",
      "\n",
      "C: 5 | gamma: 0.5\n",
      "______________________________________________\n",
      "Model: SVM\n",
      "Accuracy: 0.45666666666666667\n",
      "Precision: 0.45666666666666667\n",
      "Recall: 1.0\n",
      "F1-score: 0.6270022883295195\n",
      "AUC: 0.5\n",
      "______________________________________________\n",
      "\n",
      "C: 5 | gamma: 1.0\n",
      "______________________________________________\n",
      "Model: SVM\n",
      "Accuracy: 0.45666666666666667\n",
      "Precision: 0.45666666666666667\n",
      "Recall: 1.0\n",
      "F1-score: 0.6270022883295195\n",
      "AUC: 0.5\n",
      "______________________________________________\n",
      "\n",
      "C: 10 | gamma: 0.1\n",
      "______________________________________________\n",
      "Model: SVM\n",
      "Accuracy: 0.45666666666666667\n",
      "Precision: 0.45666666666666667\n",
      "Recall: 1.0\n",
      "F1-score: 0.6270022883295195\n",
      "AUC: 0.5\n",
      "______________________________________________\n",
      "\n",
      "C: 10 | gamma: 0.5\n",
      "______________________________________________\n",
      "Model: SVM\n",
      "Accuracy: 0.45666666666666667\n",
      "Precision: 0.45666666666666667\n",
      "Recall: 1.0\n",
      "F1-score: 0.6270022883295195\n",
      "AUC: 0.5\n",
      "______________________________________________\n",
      "\n",
      "C: 10 | gamma: 1.0\n",
      "______________________________________________\n",
      "Model: SVM\n",
      "Accuracy: 0.45666666666666667\n",
      "Precision: 0.45666666666666667\n",
      "Recall: 1.0\n",
      "F1-score: 0.6270022883295195\n",
      "AUC: 0.5\n",
      "______________________________________________\n",
      "\n"
     ]
    }
   ],
   "source": [
    "xQ16 = X\n",
    "yQ16 =y\n",
    "xQ16tr, xQ16te, yQ16tr, yQ16te = train_test_split(xQ16, yQ16, test_size=0.30, random_state=101)\n",
    "\n",
    "precisions = []\n",
    "for i in cs:\n",
    "    for j in gamma:\n",
    "        Q16mod = SVC(C = i, gamma = j, random_state = 101)\n",
    "        Q16mod.fit(xQ16tr, yQ16tr)\n",
    "        yQ16Pred = Q16mod.predict(xQ16te)\n",
    "        print('C:', i, '|', 'gamma:', j)\n",
    "        display_metrics('SVM', yQ16Pred, yQ16te)\n",
    "        acc, precision, recall, f1score, auc = classification_metrics(yQ16Pred, yQ16te)\n",
    "        precisions.append(precision)"
   ]
  },
  {
   "cell_type": "code",
   "execution_count": null,
   "id": "cd31d32e",
   "metadata": {},
   "outputs": [],
   "source": []
  }
 ],
 "metadata": {
  "kernelspec": {
   "display_name": "Python 3 (ipykernel)",
   "language": "python",
   "name": "python3"
  },
  "language_info": {
   "codemirror_mode": {
    "name": "ipython",
    "version": 3
   },
   "file_extension": ".py",
   "mimetype": "text/x-python",
   "name": "python",
   "nbconvert_exporter": "python",
   "pygments_lexer": "ipython3",
   "version": "3.10.9"
  }
 },
 "nbformat": 4,
 "nbformat_minor": 5
}
